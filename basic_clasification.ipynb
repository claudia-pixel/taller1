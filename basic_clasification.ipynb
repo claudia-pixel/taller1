{
 "cells": [
  {
   "cell_type": "markdown",
   "metadata": {
    "colab_type": "text",
    "id": "view-in-github"
   },
   "source": [
    "<a href=\"https://colab.research.google.com/github/armandoordonez/eda_couse/blob/main/basic_clasification.ipynb\" target=\"_parent\"><img src=\"https://colab.research.google.com/assets/colab-badge.svg\" alt=\"Open In Colab\"/></a>"
   ]
  },
  {
   "cell_type": "markdown",
   "metadata": {},
   "source": [
    "<p><img height=\"45px\" src=\"https://drive.google.com/uc?id=1aJx1i5ecv6L6R5zUqK_ry6vuDnBDmprd\"align=\"left\" hspace=\"10px\" vspace=\"0px\"></p>\n",
    "\n",
    "<h1>Flujo de analítica </h1>\n",
    "<br>\n",
    "\n",
    "*Tiempo aproximado:* ***15 minutos***"
   ]
  },
  {
   "cell_type": "code",
   "execution_count": 40,
   "metadata": {},
   "outputs": [],
   "source": [
    "# Importamos las bibliotecas necesarias\n",
    "\n",
    "# bibliotecas para manipulación de datos\n",
    "import pandas as pd\n",
    "\n",
    "# bibliotecas para preprocesamiento\n",
    "from sklearn.model_selection import train_test_split\n",
    "# bibliotecas para modelado\n",
    "from sklearn.ensemble import RandomForestClassifier\n",
    "\n",
    "\n",
    "from sklearn.linear_model import LinearRegression\n",
    "from sklearn.metrics import mean_squared_error\n",
    "\n",
    "# bibliotecas para evaluación\n",
    "from sklearn.metrics import accuracy_score, classification_report, confusion_matrix\n",
    "\n",
    "# bibliotecas para visualización\n",
    "import matplotlib.pyplot as plt\n",
    "import seaborn as sns \n",
    "\n"
   ]
  },
  {
   "cell_type": "code",
   "execution_count": 41,
   "metadata": {
    "id": "4hSuyUm3JVs1"
   },
   "outputs": [],
   "source": [
    "# Paso 1: Cargar el archivo CSV desde una URL en un DataFrame de Pandas \n",
    "# Ruta del archivo CSV\n",
    "import requests\n",
    "\n",
    "ruta_archivo = 'https://raw.githubusercontent.com/armandoordonez/eda_couse/main/data/prediccion_prestamo_train.csv'  # Reemplaza con la ruta de tu archivo CSV\n",
    "\n",
    "# Cargar el archivo CSV en un DataFrame de Pandas \n",
    "data = pd.read_csv(ruta_archivo)"
   ]
  },
  {
   "cell_type": "code",
   "execution_count": 3,
   "metadata": {
    "colab": {
     "base_uri": "https://localhost:8080/"
    },
    "id": "T3PObNqLpOgz",
    "outputId": "7e44bf39-d629-48cf-c077-1522a113482b"
   },
   "outputs": [
    {
     "name": "stdout",
     "output_type": "stream",
     "text": [
      "Información del conjunto de datos:\n",
      "<class 'pandas.core.frame.DataFrame'>\n",
      "RangeIndex: 614 entries, 0 to 613\n",
      "Data columns (total 13 columns):\n",
      " #   Column                   Non-Null Count  Dtype  \n",
      "---  ------                   --------------  -----  \n",
      " 0   ID                       614 non-null    object \n",
      " 1   Genero                   601 non-null    object \n",
      " 2   Married                  611 non-null    object \n",
      " 3   dependientes             599 non-null    object \n",
      " 4    educacion               614 non-null    object \n",
      " 5    autoempleado            582 non-null    object \n",
      " 6    ingresos_solicitante    614 non-null    int64  \n",
      " 7    ingresos_cosolicitante  614 non-null    float64\n",
      " 8    monto_prestamo          592 non-null    float64\n",
      " 9    plazo_prestamo          600 non-null    float64\n",
      " 10   historial_crediticio    564 non-null    float64\n",
      " 11   area_propiedad          614 non-null    object \n",
      " 12   estado_prestamo         614 non-null    object \n",
      "dtypes: float64(4), int64(1), object(8)\n",
      "memory usage: 62.5+ KB\n",
      "None\n"
     ]
    }
   ],
   "source": [
    "# Paso 2: Análisis Exploratorio de datos simplificado\n",
    "\n",
    "# Puedes imprimir información básica sobre el conjunto de datos\n",
    "\n",
    "print(\"Información del conjunto de datos:\")\n",
    "print(data.info())\n"
   ]
  },
  {
   "cell_type": "code",
   "execution_count": 39,
   "metadata": {},
   "outputs": [
    {
     "name": "stdout",
     "output_type": "stream",
     "text": [
      "\n",
      "ultimas 5 filas del conjunto de datos:\n"
     ]
    },
    {
     "data": {
      "text/html": [
       "<div>\n",
       "<style scoped>\n",
       "    .dataframe tbody tr th:only-of-type {\n",
       "        vertical-align: middle;\n",
       "    }\n",
       "\n",
       "    .dataframe tbody tr th {\n",
       "        vertical-align: top;\n",
       "    }\n",
       "\n",
       "    .dataframe thead th {\n",
       "        text-align: right;\n",
       "    }\n",
       "</style>\n",
       "<table border=\"1\" class=\"dataframe\">\n",
       "  <thead>\n",
       "    <tr style=\"text-align: right;\">\n",
       "      <th></th>\n",
       "      <th>ID</th>\n",
       "      <th>Genero</th>\n",
       "      <th>Married</th>\n",
       "      <th>dependientes</th>\n",
       "      <th>educacion</th>\n",
       "      <th>autoempleado</th>\n",
       "      <th>ingresos_solicitante</th>\n",
       "      <th>ingresos_cosolicitante</th>\n",
       "      <th>monto_prestamo</th>\n",
       "      <th>plazo_prestamo</th>\n",
       "      <th>historial_crediticio</th>\n",
       "      <th>area_propiedad</th>\n",
       "      <th>estado_prestamo</th>\n",
       "    </tr>\n",
       "  </thead>\n",
       "  <tbody>\n",
       "    <tr>\n",
       "      <th>609</th>\n",
       "      <td>LP002978</td>\n",
       "      <td>FeHombre</td>\n",
       "      <td>No</td>\n",
       "      <td>0</td>\n",
       "      <td>Graduado</td>\n",
       "      <td>No</td>\n",
       "      <td>2900</td>\n",
       "      <td>0.0</td>\n",
       "      <td>71.0</td>\n",
       "      <td>360.0</td>\n",
       "      <td>1.0</td>\n",
       "      <td>Rural</td>\n",
       "      <td>1</td>\n",
       "    </tr>\n",
       "    <tr>\n",
       "      <th>610</th>\n",
       "      <td>LP002979</td>\n",
       "      <td>Hombre</td>\n",
       "      <td>Si</td>\n",
       "      <td>3+</td>\n",
       "      <td>Graduado</td>\n",
       "      <td>No</td>\n",
       "      <td>4106</td>\n",
       "      <td>0.0</td>\n",
       "      <td>40.0</td>\n",
       "      <td>180.0</td>\n",
       "      <td>1.0</td>\n",
       "      <td>Rural</td>\n",
       "      <td>1</td>\n",
       "    </tr>\n",
       "    <tr>\n",
       "      <th>611</th>\n",
       "      <td>LP002983</td>\n",
       "      <td>Hombre</td>\n",
       "      <td>Si</td>\n",
       "      <td>1</td>\n",
       "      <td>Graduado</td>\n",
       "      <td>No</td>\n",
       "      <td>8072</td>\n",
       "      <td>240.0</td>\n",
       "      <td>253.0</td>\n",
       "      <td>360.0</td>\n",
       "      <td>1.0</td>\n",
       "      <td>Urbano</td>\n",
       "      <td>1</td>\n",
       "    </tr>\n",
       "    <tr>\n",
       "      <th>612</th>\n",
       "      <td>LP002984</td>\n",
       "      <td>Hombre</td>\n",
       "      <td>Si</td>\n",
       "      <td>2</td>\n",
       "      <td>Graduado</td>\n",
       "      <td>No</td>\n",
       "      <td>7583</td>\n",
       "      <td>0.0</td>\n",
       "      <td>187.0</td>\n",
       "      <td>360.0</td>\n",
       "      <td>1.0</td>\n",
       "      <td>Urbano</td>\n",
       "      <td>1</td>\n",
       "    </tr>\n",
       "    <tr>\n",
       "      <th>613</th>\n",
       "      <td>LP002990</td>\n",
       "      <td>FeHombre</td>\n",
       "      <td>No</td>\n",
       "      <td>0</td>\n",
       "      <td>Graduado</td>\n",
       "      <td>Si</td>\n",
       "      <td>4583</td>\n",
       "      <td>0.0</td>\n",
       "      <td>133.0</td>\n",
       "      <td>360.0</td>\n",
       "      <td>0.0</td>\n",
       "      <td>SemiUrbano</td>\n",
       "      <td>0</td>\n",
       "    </tr>\n",
       "  </tbody>\n",
       "</table>\n",
       "</div>"
      ],
      "text/plain": [
       "           ID    Genero Married dependientes  educacion  autoempleado  \\\n",
       "609  LP002978  FeHombre      No            0   Graduado            No   \n",
       "610  LP002979    Hombre      Si           3+   Graduado            No   \n",
       "611  LP002983    Hombre      Si            1   Graduado            No   \n",
       "612  LP002984    Hombre      Si            2   Graduado            No   \n",
       "613  LP002990  FeHombre      No            0   Graduado            Si   \n",
       "\n",
       "      ingresos_solicitante   ingresos_cosolicitante   monto_prestamo  \\\n",
       "609                   2900                      0.0             71.0   \n",
       "610                   4106                      0.0             40.0   \n",
       "611                   8072                    240.0            253.0   \n",
       "612                   7583                      0.0            187.0   \n",
       "613                   4583                      0.0            133.0   \n",
       "\n",
       "      plazo_prestamo   historial_crediticio  area_propiedad   estado_prestamo  \n",
       "609            360.0                    1.0           Rural                 1  \n",
       "610            180.0                    1.0           Rural                 1  \n",
       "611            360.0                    1.0          Urbano                 1  \n",
       "612            360.0                    1.0          Urbano                 1  \n",
       "613            360.0                    0.0      SemiUrbano                 0  "
      ]
     },
     "execution_count": 39,
     "metadata": {},
     "output_type": "execute_result"
    }
   ],
   "source": [
    "# Visualizar las ultimas filas del conjunto de datos\n",
    "\n",
    "print(\"\\nultimas 5 filas del conjunto de datos:\")\n",
    "data.tail(5)"
   ]
  },
  {
   "cell_type": "code",
   "execution_count": 27,
   "metadata": {
    "colab": {
     "base_uri": "https://localhost:8080/"
    },
    "id": "Aq6MkFbUJZtU",
    "outputId": "44baaf3b-d12c-4dba-dbcb-97fb1d4b0f4f"
   },
   "outputs": [
    {
     "name": "stdout",
     "output_type": "stream",
     "text": [
      "\n",
      "Estadísticas descriptivas:\n",
      "        ingresos_solicitante   ingresos_cosolicitante   monto_prestamo  \\\n",
      "count             614.000000               614.000000       592.000000   \n",
      "mean             5403.459283              1621.245798       146.412162   \n",
      "std              6109.041673              2926.248369        85.587325   \n",
      "min               150.000000                 0.000000         9.000000   \n",
      "25%              2877.500000                 0.000000       100.000000   \n",
      "50%              3812.500000              1188.500000       128.000000   \n",
      "75%              5795.000000              2297.250000       168.000000   \n",
      "max             81000.000000             41667.000000       700.000000   \n",
      "\n",
      "        plazo_prestamo   historial_crediticio  \n",
      "count        600.00000             564.000000  \n",
      "mean         342.00000               0.842199  \n",
      "std           65.12041               0.364878  \n",
      "min           12.00000               0.000000  \n",
      "25%          360.00000               1.000000  \n",
      "50%          360.00000               1.000000  \n",
      "75%          360.00000               1.000000  \n",
      "max          480.00000               1.000000  \n"
     ]
    }
   ],
   "source": [
    "# Mostrar estadísticas descriptivas\n",
    "print(\"\\nEstadísticas descriptivas:\")\n",
    "print(data.describe())\n",
    "# "
   ]
  },
  {
   "cell_type": "code",
   "execution_count": 28,
   "metadata": {
    "id": "F8j_-Hv1Iv79"
   },
   "outputs": [],
   "source": [
    "# Paso 3: Preprocesamiento de datos\n",
    " \n",
    "# Algo de limpieza de datos\n",
    "# eliminamos los nulos\n",
    "data = data.dropna()"
   ]
  },
  {
   "cell_type": "code",
   "execution_count": 11,
   "metadata": {
    "colab": {
     "base_uri": "https://localhost:8080/"
    },
    "id": "GhOnZBblI5-L",
    "outputId": "6a93caf7-6e53-48c8-90f3-743a812b1098"
   },
   "outputs": [
    {
     "name": "stdout",
     "output_type": "stream",
     "text": [
      "<class 'pandas.core.frame.DataFrame'>\n",
      "Int64Index: 480 entries, 1 to 613\n",
      "Data columns (total 13 columns):\n",
      " #   Column                   Non-Null Count  Dtype  \n",
      "---  ------                   --------------  -----  \n",
      " 0   ID                       480 non-null    object \n",
      " 1   Genero                   480 non-null    object \n",
      " 2   Married                  480 non-null    object \n",
      " 3   dependientes             480 non-null    object \n",
      " 4    educacion               480 non-null    object \n",
      " 5    autoempleado            480 non-null    object \n",
      " 6    ingresos_solicitante    480 non-null    int64  \n",
      " 7    ingresos_cosolicitante  480 non-null    float64\n",
      " 8    monto_prestamo          480 non-null    float64\n",
      " 9    plazo_prestamo          480 non-null    float64\n",
      " 10   historial_crediticio    480 non-null    float64\n",
      " 11   area_propiedad          480 non-null    object \n",
      " 12   estado_prestamo         480 non-null    object \n",
      "dtypes: float64(4), int64(1), object(8)\n",
      "memory usage: 52.5+ KB\n",
      "None\n"
     ]
    }
   ],
   "source": [
    "# mostramos nuevemamente la información general del dataset \n",
    "# para verificar que no hayan nulos\n",
    "\n",
    "print(data.info())"
   ]
  },
  {
   "cell_type": "code",
   "execution_count": 29,
   "metadata": {
    "id": "V7D5Vuz-q4ID"
   },
   "outputs": [],
   "source": [
    "# Paso 3: Dividir el conjunto de datos en características (X) y etiquetas (y)\n",
    "# Características\n",
    "# Seleccionamos las columnas de características\n",
    "# ingresos_solicitante, ingresos_cosolicitante y monto_prestamo como características para el modelo\n",
    "# y la columna estado_prestamo como etiqueta para predecir\n",
    "\n",
    "X = data[[\" ingresos_solicitante\", \" ingresos_cosolicitante\", \" monto_prestamo\"]]\n",
    "y = data[' estado_prestamo']"
   ]
  },
  {
   "cell_type": "code",
   "execution_count": 10,
   "metadata": {
    "colab": {
     "base_uri": "https://localhost:8080/"
    },
    "id": "g7mRY2EcJQLe",
    "outputId": "4f24a71d-ec64-4d03-c7c7-66c8ea500330"
   },
   "outputs": [
    {
     "name": "stdout",
     "output_type": "stream",
     "text": [
      "<class 'pandas.core.frame.DataFrame'>\n",
      "Index: 480 entries, 1 to 613\n",
      "Data columns (total 3 columns):\n",
      " #   Column                   Non-Null Count  Dtype  \n",
      "---  ------                   --------------  -----  \n",
      " 0    ingresos_solicitante    480 non-null    int64  \n",
      " 1    ingresos_cosolicitante  480 non-null    float64\n",
      " 2    monto_prestamo          480 non-null    float64\n",
      "dtypes: float64(2), int64(1)\n",
      "memory usage: 15.0 KB\n",
      "None\n"
     ]
    }
   ],
   "source": [
    "# mostramos la información de las características   \n",
    "print(X.info())"
   ]
  },
  {
   "cell_type": "code",
   "execution_count": 30,
   "metadata": {
    "id": "P1-FzidzJWwj"
   },
   "outputs": [
    {
     "name": "stdout",
     "output_type": "stream",
     "text": [
      " estado_prestamo\n",
      "Y    332\n",
      "N    148\n",
      "Name: count, dtype: int64\n"
     ]
    }
   ],
   "source": [
    "# aqui se muestra la información de las etiquetas\n",
    "# que en este caso es la columna 'estado_prestamo'  es la que queremos predecir\n",
    "# en este caso es una variable binaria:  1 si el prestamo fue aprobado y 0 si no fue aprobado\n",
    "\n",
    "print(y.value_counts())\n",
    "\n",
    "data[' estado_prestamo'] = data[' estado_prestamo'].replace({\"Y\": 1, \"N\": 0})\n",
    "data[' estado_prestamo'] = data[' estado_prestamo'].astype(int)"
   ]
  },
  {
   "cell_type": "code",
   "execution_count": 36,
   "metadata": {
    "id": "cP-r7vkypV09"
   },
   "outputs": [
    {
     "name": "stdout",
     "output_type": "stream",
     "text": [
      "\t 384 datos para training\n",
      "\t 96 datos para testing\n"
     ]
    }
   ],
   "source": [
    "# Paso 4: Dividir el conjunto de datos en entrenamiento y prueba\n",
    "\n",
    "X_train, X_test, y_train, y_test = train_test_split(X, y, test_size=0.2, random_state=42)\n",
    "print(\"\\t %d datos para training\" %X_train.shape[0])\n",
    "print(\"\\t %d datos para testing\" %X_test.shape[0])\n"
   ]
  },
  {
   "cell_type": "code",
   "execution_count": 38,
   "metadata": {
    "colab": {
     "base_uri": "https://localhost:8080/",
     "height": 75
    },
    "id": "zXE-8bN9JGFH",
    "outputId": "5332c7e4-798d-42a9-e6f3-2adb162f2052",
    "scrolled": true
   },
   "outputs": [
    {
     "data": {
      "text/html": [
       "<style>#sk-container-id-3 {color: black;}#sk-container-id-3 pre{padding: 0;}#sk-container-id-3 div.sk-toggleable {background-color: white;}#sk-container-id-3 label.sk-toggleable__label {cursor: pointer;display: block;width: 100%;margin-bottom: 0;padding: 0.3em;box-sizing: border-box;text-align: center;}#sk-container-id-3 label.sk-toggleable__label-arrow:before {content: \"▸\";float: left;margin-right: 0.25em;color: #696969;}#sk-container-id-3 label.sk-toggleable__label-arrow:hover:before {color: black;}#sk-container-id-3 div.sk-estimator:hover label.sk-toggleable__label-arrow:before {color: black;}#sk-container-id-3 div.sk-toggleable__content {max-height: 0;max-width: 0;overflow: hidden;text-align: left;background-color: #f0f8ff;}#sk-container-id-3 div.sk-toggleable__content pre {margin: 0.2em;color: black;border-radius: 0.25em;background-color: #f0f8ff;}#sk-container-id-3 input.sk-toggleable__control:checked~div.sk-toggleable__content {max-height: 200px;max-width: 100%;overflow: auto;}#sk-container-id-3 input.sk-toggleable__control:checked~label.sk-toggleable__label-arrow:before {content: \"▾\";}#sk-container-id-3 div.sk-estimator input.sk-toggleable__control:checked~label.sk-toggleable__label {background-color: #d4ebff;}#sk-container-id-3 div.sk-label input.sk-toggleable__control:checked~label.sk-toggleable__label {background-color: #d4ebff;}#sk-container-id-3 input.sk-hidden--visually {border: 0;clip: rect(1px 1px 1px 1px);clip: rect(1px, 1px, 1px, 1px);height: 1px;margin: -1px;overflow: hidden;padding: 0;position: absolute;width: 1px;}#sk-container-id-3 div.sk-estimator {font-family: monospace;background-color: #f0f8ff;border: 1px dotted black;border-radius: 0.25em;box-sizing: border-box;margin-bottom: 0.5em;}#sk-container-id-3 div.sk-estimator:hover {background-color: #d4ebff;}#sk-container-id-3 div.sk-parallel-item::after {content: \"\";width: 100%;border-bottom: 1px solid gray;flex-grow: 1;}#sk-container-id-3 div.sk-label:hover label.sk-toggleable__label {background-color: #d4ebff;}#sk-container-id-3 div.sk-serial::before {content: \"\";position: absolute;border-left: 1px solid gray;box-sizing: border-box;top: 0;bottom: 0;left: 50%;z-index: 0;}#sk-container-id-3 div.sk-serial {display: flex;flex-direction: column;align-items: center;background-color: white;padding-right: 0.2em;padding-left: 0.2em;position: relative;}#sk-container-id-3 div.sk-item {position: relative;z-index: 1;}#sk-container-id-3 div.sk-parallel {display: flex;align-items: stretch;justify-content: center;background-color: white;position: relative;}#sk-container-id-3 div.sk-item::before, #sk-container-id-3 div.sk-parallel-item::before {content: \"\";position: absolute;border-left: 1px solid gray;box-sizing: border-box;top: 0;bottom: 0;left: 50%;z-index: -1;}#sk-container-id-3 div.sk-parallel-item {display: flex;flex-direction: column;z-index: 1;position: relative;background-color: white;}#sk-container-id-3 div.sk-parallel-item:first-child::after {align-self: flex-end;width: 50%;}#sk-container-id-3 div.sk-parallel-item:last-child::after {align-self: flex-start;width: 50%;}#sk-container-id-3 div.sk-parallel-item:only-child::after {width: 0;}#sk-container-id-3 div.sk-dashed-wrapped {border: 1px dashed gray;margin: 0 0.4em 0.5em 0.4em;box-sizing: border-box;padding-bottom: 0.4em;background-color: white;}#sk-container-id-3 div.sk-label label {font-family: monospace;font-weight: bold;display: inline-block;line-height: 1.2em;}#sk-container-id-3 div.sk-label-container {text-align: center;}#sk-container-id-3 div.sk-container {/* jupyter's `normalize.less` sets `[hidden] { display: none; }` but bootstrap.min.css set `[hidden] { display: none !important; }` so we also need the `!important` here to be able to override the default hidden behavior on the sphinx rendered scikit-learn.org. See: https://github.com/scikit-learn/scikit-learn/issues/21755 */display: inline-block !important;position: relative;}#sk-container-id-3 div.sk-text-repr-fallback {display: none;}</style><div id=\"sk-container-id-3\" class=\"sk-top-container\"><div class=\"sk-text-repr-fallback\"><pre>RandomForestClassifier(random_state=42)</pre><b>In a Jupyter environment, please rerun this cell to show the HTML representation or trust the notebook. <br />On GitHub, the HTML representation is unable to render, please try loading this page with nbviewer.org.</b></div><div class=\"sk-container\" hidden><div class=\"sk-item\"><div class=\"sk-estimator sk-toggleable\"><input class=\"sk-toggleable__control sk-hidden--visually\" id=\"sk-estimator-id-3\" type=\"checkbox\" checked><label for=\"sk-estimator-id-3\" class=\"sk-toggleable__label sk-toggleable__label-arrow\">RandomForestClassifier</label><div class=\"sk-toggleable__content\"><pre>RandomForestClassifier(random_state=42)</pre></div></div></div></div></div>"
      ],
      "text/plain": [
       "RandomForestClassifier(random_state=42)"
      ]
     },
     "execution_count": 38,
     "metadata": {},
     "output_type": "execute_result"
    }
   ],
   "source": [
    "\n",
    "# Paso 5: Entrenar un modelo de clasificación (usando Random Forest como ejemplo)\n",
    "# Crear un modelo de clasificación de bosque aleatorio\n",
    "modelo = RandomForestClassifier(random_state=42)#\n",
    "modelo.fit(X_train, y_train)"
   ]
  },
  {
   "cell_type": "code",
   "execution_count": 14,
   "metadata": {
    "colab": {
     "base_uri": "https://localhost:8080/",
     "height": 804
    },
    "id": "oG5GbHgQsXRv",
    "outputId": "94f4c21e-9f12-486f-be40-0bf03557b0cb"
   },
   "outputs": [
    {
     "name": "stdout",
     "output_type": "stream",
     "text": [
      "\n",
      "Precisión del modelo: 0.61\n"
     ]
    },
    {
     "data": {
      "image/png": "[encoded data removed]",
      "text/plain": [
       "<Figure size 800x600 with 1 Axes>"
      ]
     },
     "metadata": {},
     "output_type": "display_data"
    },
    {
     "name": "stdout",
     "output_type": "stream",
     "text": [
      "\n",
      "Informe de Clasificación:\n",
      "              precision    recall  f1-score   support\n",
      "\n",
      "           N       0.29      0.21      0.24        28\n",
      "           Y       0.71      0.78      0.74        68\n",
      "\n",
      "    accuracy                           0.61        96\n",
      "   macro avg       0.50      0.50      0.49        96\n",
      "weighted avg       0.58      0.61      0.60        96\n",
      "\n"
     ]
    }
   ],
   "source": [
    "# Paso 5: Evaluación del modelo\n",
    "y_pred = modelo.predict(X_test)\n",
    "\n",
    "# Calcular la precisión del modelo\n",
    "precision = accuracy_score(y_test, y_pred)\n",
    "print(f\"\\nPrecisión del modelo: {precision:.2f}\")\n",
    "\n",
    "# Mostrar la matriz de confusión\n",
    "matriz_confusion = confusion_matrix(y_test, y_pred)\n",
    "plt.figure(figsize=(8, 6))\n",
    "sns.heatmap(matriz_confusion, annot=True, fmt='d', cmap='Blues', cbar=False)\n",
    "plt.xlabel('Predicciones')\n",
    "plt.ylabel('Valores reales')\n",
    "plt.title('Matriz de Confusión')\n",
    "plt.show()\n",
    "\n",
    "# Mostrar el informe de clasificación\n",
    "informe_clasificacion = classification_report(y_test, y_pred)\n",
    "print(\"\\nInforme de Clasificación:\")\n",
    "print(informe_clasificacion)"
   ]
  },
  {
   "cell_type": "code",
   "execution_count": 15,
   "metadata": {
    "id": "9bwtVfD4ITCU"
   },
   "outputs": [],
   "source": [
    "# Paso 6: Guardar el modelo entrenado en un archivo para su uso posterior\n",
    "# Guardar el modelo en un archivo usando pickle\n",
    "import pickle\n",
    "\n",
    "with open('modelo_prestamo.pkl', 'wb') as archivo_salida:\n",
    "    pickle.dump(modelo, archivo_salida)\n",
    "\n",
    "# Verificar que se haya creado el modelo en el sistema de archivos"
   ]
  },
  {
   "cell_type": "code",
   "execution_count": 21,
   "metadata": {
    "id": "qkdFgi7iJyWz"
   },
   "outputs": [
    {
     "name": "stdout",
     "output_type": "stream",
     "text": [
      "\n",
      "Predicción: ['Y']\n"
     ]
    }
   ],
   "source": [
    "\n",
    "# Paso 7: Cargar el modelo desde el archivo y hacer una predicción\n",
    "with open('modelo_prestamo.pkl', 'rb') as archivo_entrada:\n",
    "    modelo_cargado = pickle.load(archivo_entrada)\n",
    "\n",
    "# Crear un nuevo ejemplo de datos\n",
    "nuevo_ejemplo = pd.DataFrame({\n",
    "    ' ingresos_solicitante': [5000],\n",
    "    ' ingresos_cosolicitante': [0],\n",
    "    ' monto_prestamo': [300]\n",
    "})\n",
    "\n",
    "# Hacer una predicción usando el modelo cargado\n",
    "prediccion = modelo_cargado.predict(nuevo_ejemplo)\n",
    "print(\"\\nPredicción:\", prediccion)\n",
    "\n",
    "# Modifique el valor de los ingresos del solicitante a 1000 y vuelva a ejecutar la celda anterior para ver cómo cambia la predicción.\n",
    "\n"
   ]
  },
  {
   "cell_type": "code",
   "execution_count": 43,
   "metadata": {
    "id": "raqr1QBPITCU"
   },
   "outputs": [],
   "source": [
    "# Ejercicios a realizar:\n",
    "\n",
    "# 1. Utiliza otras variables del conjunto de datos para predecir el prestamo\n",
    "# 2. Utliza otro algoritmo y compara los resultados los resultados"
   ]
  }
 ],
 "metadata": {
  "colab": {
   "include_colab_link": true,
   "provenance": []
  },
  "kernelspec": {
   "display_name": "Python 3 (ipykernel)",
   "language": "python",
   "name": "python3"
  },
  "language_info": {
   "codemirror_mode": {
    "name": "ipython",
    "version": 3
   },
   "file_extension": ".py",
   "mimetype": "text/x-python",
   "name": "python",
   "nbconvert_exporter": "python",
   "pygments_lexer": "ipython3",
   "version": "3.11.5"
  }
 },
 "nbformat": 4,
 "nbformat_minor": 1
}
