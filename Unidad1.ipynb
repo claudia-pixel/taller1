{
 "cells": [
  {
   "cell_type": "markdown",
   "id": "e2ea9574",
   "metadata": {},
   "source": [
    "                                                PREGUNTA SMART\n",
    "\n",
    "¿Cual es la relacion entre la edad y el valor promedio de glucosa en sangre para pacientes diabeticos mayores de 45 años?\n",
    "\n",
    "Esta pregunta es SMART por que:\n",
    "\n",
    "Es especifica: se centra en un grupo de pacientes(mayores de 45 años).\n",
    "Es medible: se puede medir la relacion entre la edad y el valor promedio de la glucosa. \n",
    "Es alcanzable: se puede analizar el dataset y ayudarse de graficas estadisticas para obtener informacion necesaria.\n",
    "Es relevante: la informacion obtenida puede ser util para identificar patrones y tendencias en la relacion entre la edad y el control de la glucosa y asi poder tomar acciones preventivas y de control para los pacientes.\n",
    "Es limitada en el tiempo: se puede establecer un plazo especifico para analizar los datos, graficas y obtener los resultados.\n",
    "\n",
    "Se puede desarrollar un modelo de prediccion para identificar pacientes que requieren atencion adicional basado en su edad y nivel glucosa. \n",
    "\n",
    "Crear un sistema de recomendacion para ajustar el tratamiento basado en la edad y el nivel de glucosa.\n",
    "\n",
    "Analizar los datos para identificar patrones y tendencias y asi mejorar la atencion medica.\n",
    " \n"
   ]
  }
 ],
 "metadata": {
  "kernelspec": {
   "display_name": "Python 3 (ipykernel)",
   "language": "python",
   "name": "python3"
  },
  "language_info": {
   "codemirror_mode": {
    "name": "ipython",
    "version": 3
   },
   "file_extension": ".py",
   "mimetype": "text/x-python",
   "name": "python",
   "nbconvert_exporter": "python",
   "pygments_lexer": "ipython3",
   "version": "3.11.5"
  }
 },
 "nbformat": 4,
 "nbformat_minor": 5
}
