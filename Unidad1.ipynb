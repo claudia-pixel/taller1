{
 "cells": [
  {
   "cell_type": "markdown",
   "id": "d4017429",
   "metadata": {},
   "source": [
    "¿Que productos de alimentos son los mas comprados por clientes que compran pan en nuestro sitio web, para que podamos ofrecer recomendaciones personalizadas y aumentar las ventas?.\n",
    "\n",
    "Es una pregunta SMART porque:\n",
    "\n",
    "Es especifica: se centra en un poroblema claro(aumentar ventas)\n",
    "Es medible:se puede evaluar el aumento de las ventas\n",
    "Es alcanzable: la tarea de analizar datos de compras es factible\n",
    "Es relevante:la solucion impacta las ventas\n",
    "Es limitada al tiempo: se puede establecer un plazo para implementar la solucion"
   ]
  }
 ],
 "metadata": {
  "kernelspec": {
   "display_name": "Python 3 (ipykernel)",
   "language": "python",
   "name": "python3"
  },
  "language_info": {
   "codemirror_mode": {
    "name": "ipython",
    "version": 3
   },
   "file_extension": ".py",
   "mimetype": "text/x-python",
   "name": "python",
   "nbconvert_exporter": "python",
   "pygments_lexer": "ipython3",
   "version": "3.11.5"
  }
 },
 "nbformat": 4,
 "nbformat_minor": 5
}
