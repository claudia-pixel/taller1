{
 "cells": [
  {
   "cell_type": "markdown",
   "metadata": {
    "colab_type": "text",
    "id": "view-in-github"
   },
   "source": [
    "<a href=\"https://colab.research.google.com/github/armandoordonez/eda_couse/blob/main/basic_clasification.ipynb\" target=\"_parent\"><img src=\"https://colab.research.google.com/assets/colab-badge.svg\" alt=\"Open In Colab\"/></a>"
   ]
  },
  {
   "cell_type": "markdown",
   "metadata": {},
   "source": [
    "<p><img height=\"45px\" src=\"https://drive.google.com/uc?id=1aJx1i5ecv6L6R5zUqK_ry6vuDnBDmprd\"align=\"left\" hspace=\"10px\" vspace=\"0px\"></p>\n",
    "\n",
    "<h1>Flujo de analítica </h1>\n",
    "<br>\n",
    "\n",
    "*Tiempo aproximado:* ***15 minutos***"
   ]
  },
  {
   "cell_type": "code",
   "execution_count": 1,
   "metadata": {},
   "outputs": [],
   "source": [
    "# Importamos las bibliotecas necesarias\n",
    "\n",
    "# bibliotecas para manipulación de datos\n",
    "import pandas as pd\n",
    "\n",
    "# bibliotecas para preprocesamiento\n",
    "from sklearn.model_selection import train_test_split\n",
    "# bibliotecas para modelado\n",
    "from sklearn.ensemble import RandomForestClassifier\n",
    "\n",
    "# bibliotecas para evaluación\n",
    "from sklearn.metrics import accuracy_score, classification_report, confusion_matrix\n",
    "\n",
    "# bibliotecas para visualización\n",
    "import matplotlib.pyplot as plt\n",
    "import seaborn as sns"
   ]
  },
  {
   "cell_type": "code",
   "execution_count": 2,
   "metadata": {
    "id": "4hSuyUm3JVs1"
   },
   "outputs": [],
   "source": [
    "# Paso 1: Cargar el archivo CSV desde una URL en un DataFrame de Pandas \n",
    "# Ruta del archivo CSV\n",
    "ruta_archivo = 'https://raw.githubusercontent.com/armandoordonez/eda_couse/main/data/prediccion_prestamo_train.csv'  # Reemplaza con la ruta de tu archivo CSV\n",
    "\n",
    "# Cargar el archivo CSV en un DataFrame de Pandas \n",
    "data = pd.read_csv(ruta_archivo)"
   ]
  },
  {
   "cell_type": "code",
   "execution_count": 3,
   "metadata": {
    "colab": {
     "base_uri": "https://localhost:8080/"
    },
    "id": "T3PObNqLpOgz",
    "outputId": "7e44bf39-d629-48cf-c077-1522a113482b"
   },
   "outputs": [
    {
     "name": "stdout",
     "output_type": "stream",
     "text": [
      "Información del conjunto de datos:\n",
      "<class 'pandas.core.frame.DataFrame'>\n",
      "RangeIndex: 614 entries, 0 to 613\n",
      "Data columns (total 13 columns):\n",
      " #   Column                   Non-Null Count  Dtype  \n",
      "---  ------                   --------------  -----  \n",
      " 0   ID                       614 non-null    object \n",
      " 1   Genero                   601 non-null    object \n",
      " 2   Married                  611 non-null    object \n",
      " 3   dependientes             599 non-null    object \n",
      " 4    educacion               614 non-null    object \n",
      " 5    autoempleado            582 non-null    object \n",
      " 6    ingresos_solicitante    614 non-null    int64  \n",
      " 7    ingresos_cosolicitante  614 non-null    float64\n",
      " 8    monto_prestamo          592 non-null    float64\n",
      " 9    plazo_prestamo          600 non-null    float64\n",
      " 10   historial_crediticio    564 non-null    float64\n",
      " 11   area_propiedad          614 non-null    object \n",
      " 12   estado_prestamo         614 non-null    object \n",
      "dtypes: float64(4), int64(1), object(8)\n",
      "memory usage: 62.5+ KB\n",
      "None\n"
     ]
    }
   ],
   "source": [
    "# Paso 2: Análisis Exploratorio de datos simplificado\n",
    "\n",
    "# Puedes imprimir información básica sobre el conjunto de datos\n",
    "\n",
    "print(\"Información del conjunto de datos:\")\n",
    "print(data.info())\n"
   ]
  },
  {
   "cell_type": "code",
   "execution_count": 5,
   "metadata": {},
   "outputs": [
    {
     "name": "stdout",
     "output_type": "stream",
     "text": [
      "\n",
      "Primeras filas del conjunto de datos:\n"
     ]
    },
    {
     "data": {
      "text/html": [
       "<div>\n",
       "<style scoped>\n",
       "    .dataframe tbody tr th:only-of-type {\n",
       "        vertical-align: middle;\n",
       "    }\n",
       "\n",
       "    .dataframe tbody tr th {\n",
       "        vertical-align: top;\n",
       "    }\n",
       "\n",
       "    .dataframe thead th {\n",
       "        text-align: right;\n",
       "    }\n",
       "</style>\n",
       "<table border=\"1\" class=\"dataframe\">\n",
       "  <thead>\n",
       "    <tr style=\"text-align: right;\">\n",
       "      <th></th>\n",
       "      <th>ID</th>\n",
       "      <th>Genero</th>\n",
       "      <th>Married</th>\n",
       "      <th>dependientes</th>\n",
       "      <th>educacion</th>\n",
       "      <th>autoempleado</th>\n",
       "      <th>ingresos_solicitante</th>\n",
       "      <th>ingresos_cosolicitante</th>\n",
       "      <th>monto_prestamo</th>\n",
       "      <th>plazo_prestamo</th>\n",
       "      <th>historial_crediticio</th>\n",
       "      <th>area_propiedad</th>\n",
       "      <th>estado_prestamo</th>\n",
       "    </tr>\n",
       "  </thead>\n",
       "  <tbody>\n",
       "    <tr>\n",
       "      <th>0</th>\n",
       "      <td>LP001002</td>\n",
       "      <td>Hombre</td>\n",
       "      <td>No</td>\n",
       "      <td>0</td>\n",
       "      <td>Graduado</td>\n",
       "      <td>No</td>\n",
       "      <td>5849</td>\n",
       "      <td>0.0</td>\n",
       "      <td>NaN</td>\n",
       "      <td>360.0</td>\n",
       "      <td>1.0</td>\n",
       "      <td>Urbano</td>\n",
       "      <td>Y</td>\n",
       "    </tr>\n",
       "    <tr>\n",
       "      <th>1</th>\n",
       "      <td>LP001003</td>\n",
       "      <td>Hombre</td>\n",
       "      <td>Si</td>\n",
       "      <td>1</td>\n",
       "      <td>Graduado</td>\n",
       "      <td>No</td>\n",
       "      <td>4583</td>\n",
       "      <td>1508.0</td>\n",
       "      <td>128.0</td>\n",
       "      <td>360.0</td>\n",
       "      <td>1.0</td>\n",
       "      <td>Rural</td>\n",
       "      <td>N</td>\n",
       "    </tr>\n",
       "    <tr>\n",
       "      <th>2</th>\n",
       "      <td>LP001005</td>\n",
       "      <td>Hombre</td>\n",
       "      <td>Si</td>\n",
       "      <td>0</td>\n",
       "      <td>Graduado</td>\n",
       "      <td>Si</td>\n",
       "      <td>3000</td>\n",
       "      <td>0.0</td>\n",
       "      <td>66.0</td>\n",
       "      <td>360.0</td>\n",
       "      <td>1.0</td>\n",
       "      <td>Urbano</td>\n",
       "      <td>Y</td>\n",
       "    </tr>\n",
       "    <tr>\n",
       "      <th>3</th>\n",
       "      <td>LP001006</td>\n",
       "      <td>Hombre</td>\n",
       "      <td>Si</td>\n",
       "      <td>0</td>\n",
       "      <td>Not Graduado</td>\n",
       "      <td>No</td>\n",
       "      <td>2583</td>\n",
       "      <td>2358.0</td>\n",
       "      <td>120.0</td>\n",
       "      <td>360.0</td>\n",
       "      <td>1.0</td>\n",
       "      <td>Urbano</td>\n",
       "      <td>Y</td>\n",
       "    </tr>\n",
       "    <tr>\n",
       "      <th>4</th>\n",
       "      <td>LP001008</td>\n",
       "      <td>Hombre</td>\n",
       "      <td>No</td>\n",
       "      <td>0</td>\n",
       "      <td>Graduado</td>\n",
       "      <td>No</td>\n",
       "      <td>6000</td>\n",
       "      <td>0.0</td>\n",
       "      <td>141.0</td>\n",
       "      <td>360.0</td>\n",
       "      <td>1.0</td>\n",
       "      <td>Urbano</td>\n",
       "      <td>Y</td>\n",
       "    </tr>\n",
       "  </tbody>\n",
       "</table>\n",
       "</div>"
      ],
      "text/plain": [
       "         ID  Genero Married dependientes     educacion  autoempleado  \\\n",
       "0  LP001002  Hombre      No            0      Graduado            No   \n",
       "1  LP001003  Hombre      Si            1      Graduado            No   \n",
       "2  LP001005  Hombre      Si            0      Graduado            Si   \n",
       "3  LP001006  Hombre      Si            0  Not Graduado            No   \n",
       "4  LP001008  Hombre      No            0      Graduado            No   \n",
       "\n",
       "    ingresos_solicitante   ingresos_cosolicitante   monto_prestamo  \\\n",
       "0                   5849                      0.0              NaN   \n",
       "1                   4583                   1508.0            128.0   \n",
       "2                   3000                      0.0             66.0   \n",
       "3                   2583                   2358.0            120.0   \n",
       "4                   6000                      0.0            141.0   \n",
       "\n",
       "    plazo_prestamo   historial_crediticio  area_propiedad  estado_prestamo  \n",
       "0            360.0                    1.0          Urbano                Y  \n",
       "1            360.0                    1.0           Rural                N  \n",
       "2            360.0                    1.0          Urbano                Y  \n",
       "3            360.0                    1.0          Urbano                Y  \n",
       "4            360.0                    1.0          Urbano                Y  "
      ]
     },
     "execution_count": 5,
     "metadata": {},
     "output_type": "execute_result"
    }
   ],
   "source": [
    "# Visualizar las primeras filas del conjunto de datos\n",
    "\n",
    "print(\"\\nPrimeras filas del conjunto de datos:\")\n",
    "data.head(5)"
   ]
  },
  {
   "cell_type": "code",
   "execution_count": 6,
   "metadata": {
    "colab": {
     "base_uri": "https://localhost:8080/"
    },
    "id": "Aq6MkFbUJZtU",
    "outputId": "44baaf3b-d12c-4dba-dbcb-97fb1d4b0f4f"
   },
   "outputs": [
    {
     "name": "stdout",
     "output_type": "stream",
     "text": [
      "\n",
      "Estadísticas descriptivas:\n",
      "        ingresos_solicitante   ingresos_cosolicitante   monto_prestamo  \\\n",
      "count             614.000000               614.000000       592.000000   \n",
      "mean             5403.459283              1621.245798       146.412162   \n",
      "std              6109.041673              2926.248369        85.587325   \n",
      "min               150.000000                 0.000000         9.000000   \n",
      "25%              2877.500000                 0.000000       100.000000   \n",
      "50%              3812.500000              1188.500000       128.000000   \n",
      "75%              5795.000000              2297.250000       168.000000   \n",
      "max             81000.000000             41667.000000       700.000000   \n",
      "\n",
      "        plazo_prestamo   historial_crediticio  \n",
      "count        600.00000             564.000000  \n",
      "mean         342.00000               0.842199  \n",
      "std           65.12041               0.364878  \n",
      "min           12.00000               0.000000  \n",
      "25%          360.00000               1.000000  \n",
      "50%          360.00000               1.000000  \n",
      "75%          360.00000               1.000000  \n",
      "max          480.00000               1.000000  \n"
     ]
    }
   ],
   "source": [
    "# Mostrar estadísticas descriptivas\n",
    "print(\"\\nEstadísticas descriptivas:\")\n",
    "print(data.describe())\n",
    "# "
   ]
  },
  {
   "cell_type": "code",
   "execution_count": 10,
   "metadata": {
    "id": "F8j_-Hv1Iv79"
   },
   "outputs": [],
   "source": [
    "# Paso 3: Preprocesamiento de datos\n",
    " \n",
    "# Algo de limpieza de datos\n",
    "# eliminamos los nulos\n",
    "data = data.dropna()"
   ]
  },
  {
   "cell_type": "code",
   "execution_count": 11,
   "metadata": {
    "colab": {
     "base_uri": "https://localhost:8080/"
    },
    "id": "GhOnZBblI5-L",
    "outputId": "6a93caf7-6e53-48c8-90f3-743a812b1098"
   },
   "outputs": [
    {
     "name": "stdout",
     "output_type": "stream",
     "text": [
      "<class 'pandas.core.frame.DataFrame'>\n",
      "Int64Index: 480 entries, 1 to 613\n",
      "Data columns (total 13 columns):\n",
      " #   Column                   Non-Null Count  Dtype  \n",
      "---  ------                   --------------  -----  \n",
      " 0   ID                       480 non-null    object \n",
      " 1   Genero                   480 non-null    object \n",
      " 2   Married                  480 non-null    object \n",
      " 3   dependientes             480 non-null    object \n",
      " 4    educacion               480 non-null    object \n",
      " 5    autoempleado            480 non-null    object \n",
      " 6    ingresos_solicitante    480 non-null    int64  \n",
      " 7    ingresos_cosolicitante  480 non-null    float64\n",
      " 8    monto_prestamo          480 non-null    float64\n",
      " 9    plazo_prestamo          480 non-null    float64\n",
      " 10   historial_crediticio    480 non-null    float64\n",
      " 11   area_propiedad          480 non-null    object \n",
      " 12   estado_prestamo         480 non-null    object \n",
      "dtypes: float64(4), int64(1), object(8)\n",
      "memory usage: 52.5+ KB\n",
      "None\n"
     ]
    }
   ],
   "source": [
    "# mostramos nuevemamente la información general del dataset \n",
    "# para verificar que no hayan nulos\n",
    "\n",
    "print(data.info())"
   ]
  },
  {
   "cell_type": "code",
   "execution_count": 12,
   "metadata": {
    "id": "V7D5Vuz-q4ID"
   },
   "outputs": [],
   "source": [
    "# Paso 3: Dividir el conjunto de datos en características (X) y etiquetas (y)\n",
    "# Características\n",
    "# Seleccionamos las columnas de características\n",
    "# ingresos_solicitante, ingresos_cosolicitante y monto_prestamo como características para el modelo\n",
    "# y la columna estado_prestamo como etiqueta para predecir\n",
    "\n",
    "X = data[[\" ingresos_solicitante\", \" ingresos_cosolicitante\", \" monto_prestamo\"]]\n",
    "y = data[' estado_prestamo']"
   ]
  },
  {
   "cell_type": "code",
   "execution_count": 13,
   "metadata": {
    "colab": {
     "base_uri": "https://localhost:8080/"
    },
    "id": "g7mRY2EcJQLe",
    "outputId": "4f24a71d-ec64-4d03-c7c7-66c8ea500330"
   },
   "outputs": [
    {
     "name": "stdout",
     "output_type": "stream",
     "text": [
      "<class 'pandas.core.frame.DataFrame'>\n",
      "Int64Index: 480 entries, 1 to 613\n",
      "Data columns (total 3 columns):\n",
      " #   Column                   Non-Null Count  Dtype  \n",
      "---  ------                   --------------  -----  \n",
      " 0    ingresos_solicitante    480 non-null    int64  \n",
      " 1    ingresos_cosolicitante  480 non-null    float64\n",
      " 2    monto_prestamo          480 non-null    float64\n",
      "dtypes: float64(2), int64(1)\n",
      "memory usage: 15.0 KB\n",
      "None\n"
     ]
    }
   ],
   "source": [
    "# mostramos la información de las características   \n",
    "print(X.info())"
   ]
  },
  {
   "cell_type": "code",
   "execution_count": 14,
   "metadata": {
    "id": "P1-FzidzJWwj"
   },
   "outputs": [
    {
     "name": "stdout",
     "output_type": "stream",
     "text": [
      "Y    332\n",
      "N    148\n",
      "Name:  estado_prestamo, dtype: int64\n"
     ]
    }
   ],
   "source": [
    "# aqui se muestra la información de las etiquetas\n",
    "# que en este caso es la columna 'estado_prestamo'  es la que queremos predecir\n",
    "# en este caso es una variable binaria:  1 si el prestamo fue aprobado y 0 si no fue aprobado\n",
    "\n",
    "print(y.value_counts())\n",
    "\n",
    "data[' estado_prestamo'] = data[' estado_prestamo'].replace({\"Y\": 1, \"N\": 0})\n",
    "data[' estado_prestamo'] = data[' estado_prestamo'].astype(int)"
   ]
  },
  {
   "cell_type": "code",
   "execution_count": 15,
   "metadata": {
    "id": "cP-r7vkypV09"
   },
   "outputs": [],
   "source": [
    "# Paso 4: Dividir el conjunto de datos en entrenamiento y prueba\n",
    "\n",
    "X_train, X_test, y_train, y_test = train_test_split(X, y, test_size=0.2, random_state=42)\n"
   ]
  },
  {
   "cell_type": "code",
   "execution_count": 16,
   "metadata": {
    "colab": {
     "base_uri": "https://localhost:8080/",
     "height": 75
    },
    "id": "zXE-8bN9JGFH",
    "outputId": "5332c7e4-798d-42a9-e6f3-2adb162f2052"
   },
   "outputs": [
    {
     "data": {
      "text/plain": [
       "RandomForestClassifier(random_state=42)"
      ]
     },
     "execution_count": 16,
     "metadata": {},
     "output_type": "execute_result"
    }
   ],
   "source": [
    "\n",
    "# Paso 4: Entrenar un modelo de clasificación (usando Random Forest como ejemplo)\n",
    "# Crear un modelo de clasificación de bosque aleatorio\n",
    "modelo = RandomForestClassifier(random_state=42)\n",
    "modelo.fit(X_train, y_train)"
   ]
  },
  {
   "cell_type": "code",
   "execution_count": 17,
   "metadata": {
    "colab": {
     "base_uri": "https://localhost:8080/",
     "height": 804
    },
    "id": "oG5GbHgQsXRv",
    "outputId": "94f4c21e-9f12-486f-be40-0bf03557b0cb"
   },
   "outputs": [
    {
     "name": "stdout",
     "output_type": "stream",
     "text": [
      "\n",
      "Precisión del modelo: 0.61\n"
     ]
    },
    {
     "data": {
      "image/png": "[encoded data removed]",
      "text/plain": [
       "<Figure size 576x432 with 1 Axes>"
      ]
     },
     "metadata": {
      "needs_background": "light"
     },
     "output_type": "display_data"
    },
    {
     "name": "stdout",
     "output_type": "stream",
     "text": [
      "\n",
      "Informe de Clasificación:\n",
      "              precision    recall  f1-score   support\n",
      "\n",
      "           N       0.29      0.21      0.24        28\n",
      "           Y       0.71      0.78      0.74        68\n",
      "\n",
      "    accuracy                           0.61        96\n",
      "   macro avg       0.50      0.50      0.49        96\n",
      "weighted avg       0.58      0.61      0.60        96\n",
      "\n"
     ]
    }
   ],
   "source": [
    "# Paso 5: Evaluación del modelo\n",
    "y_pred = modelo.predict(X_test)\n",
    "\n",
    "# Calcular la precisión del modelo\n",
    "precision = accuracy_score(y_test, y_pred)\n",
    "print(f\"\\nPrecisión del modelo: {precision:.2f}\")\n",
    "\n",
    "# Mostrar la matriz de confusión\n",
    "matriz_confusion = confusion_matrix(y_test, y_pred)\n",
    "plt.figure(figsize=(8, 6))\n",
    "sns.heatmap(matriz_confusion, annot=True, fmt='d', cmap='Blues', cbar=False)\n",
    "plt.xlabel('Predicciones')\n",
    "plt.ylabel('Valores reales')\n",
    "plt.title('Matriz de Confusión')\n",
    "plt.show()\n",
    "\n",
    "# Mostrar el informe de clasificación\n",
    "informe_clasificacion = classification_report(y_test, y_pred)\n",
    "print(\"\\nInforme de Clasificación:\")\n",
    "print(informe_clasificacion)"
   ]
  },
  {
   "cell_type": "code",
   "execution_count": 18,
   "metadata": {
    "id": "9bwtVfD4ITCU"
   },
   "outputs": [],
   "source": [
    "# Paso 6: Guardar el modelo entrenado en un archivo para su uso posterior\n",
    "# Guardar el modelo en un archivo usando pickle\n",
    "import pickle\n",
    "\n",
    "with open('modelo_prestamo.pkl', 'wb') as archivo_salida:\n",
    "    pickle.dump(modelo, archivo_salida)\n",
    "\n",
    "# Verificar que se haya creado el modelo en el sistema de archivos"
   ]
  },
  {
   "cell_type": "code",
   "execution_count": 25,
   "metadata": {
    "id": "qkdFgi7iJyWz"
   },
   "outputs": [
    {
     "name": "stdout",
     "output_type": "stream",
     "text": [
      "\n",
      "Predicción: ['Y']\n"
     ]
    }
   ],
   "source": [
    "\n",
    "# Paso 7: Cargar el modelo desde el archivo y hacer una predicción\n",
    "with open('modelo_prestamo.pkl', 'rb') as archivo_entrada:\n",
    "    modelo_cargado = pickle.load(archivo_entrada)\n",
    "\n",
    "# Crear un nuevo ejemplo de datos\n",
    "nuevo_ejemplo = pd.DataFrame({\n",
    "    ' ingresos_solicitante': [5000],\n",
    "    ' ingresos_cosolicitante': [0],\n",
    "    ' monto_prestamo': [300]\n",
    "})\n",
    "\n",
    "# Hacer una predicción usando el modelo cargado\n",
    "prediccion = modelo_cargado.predict(nuevo_ejemplo)\n",
    "print(\"\\nPredicción:\", prediccion)\n",
    "\n",
    "# Modifique el valor de los ingresos del solicitante a 1000 y vuelva a ejecutar la celda anterior para ver cómo cambia la predicción.\n",
    "\n"
   ]
  },
  {
   "cell_type": "code",
   "execution_count": 43,
   "metadata": {
    "id": "raqr1QBPITCU"
   },
   "outputs": [],
   "source": [
    "# Ejercicios a realizar:\n",
    "\n",
    "# 1. Utiliza otras variables del conjunto de datos para predecir el prestamo\n",
    "# 2. Utliza otro algoritmo y compara los resultados los resultados\n",
    "\n",
    "\n"
   ]
  },
  {
   "cell_type": "code",
   "execution_count": null,
   "metadata": {
    "id": "jVfh0A6OKOvM"
   },
   "outputs": [],
   "source": []
  },
  {
   "cell_type": "code",
   "execution_count": null,
   "metadata": {
    "id": "c13gmy1nKNP0"
   },
   "outputs": [],
   "source": []
  },
  {
   "cell_type": "code",
   "execution_count": null,
   "metadata": {
    "id": "jCAlgnAvKDv0"
   },
   "outputs": [],
   "source": []
  }
 ],
 "metadata": {
  "colab": {
   "include_colab_link": true,
   "provenance": []
  },
  "kernelspec": {
   "display_name": "Python 3 (ipykernel)",
   "language": "python",
   "name": "python3"
  },
  "language_info": {
   "codemirror_mode": {
    "name": "ipython",
    "version": 3
   },
   "file_extension": ".py",
   "mimetype": "text/x-python",
   "name": "python",
   "nbconvert_exporter": "python",
   "pygments_lexer": "ipython3",
   "version": "3.11.5"
  }
 },
 "nbformat": 4,
 "nbformat_minor": 1
}
