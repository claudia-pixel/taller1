{
 "cells": [
  {
   "cell_type": "markdown",
   "id": "ef7b9ed7",
   "metadata": {},
   "source": [
    "Edad de los estudiantes de la maestria ciencia de datos."
   ]
  },
  {
   "cell_type": "code",
   "execution_count": 2,
   "id": "51305438",
   "metadata": {},
   "outputs": [],
   "source": [
    "ruta_archivo = 'https://raw.githubusercontent.com/github.com/claudia-pixel/taller1/alumnos.csv'  # Reemplaza con la ruta de tu archivo CSV"
   ]
  },
  {
   "attachments": {},
   "cell_type": "markdown",
   "id": "c098e8e4",
   "metadata": {},
   "source": [
    "# analisis univariado\n",
    "\n",
    "1. Media.\n",
    "La media es la edad promedio de los estudiantes. se calcula sumando todas las edades y dividiendo por el numero de observaciones.\n",
    "\n",
    "2. Media = (25 + 31 + 42 + 28 + 35 + 22 + 40 + 38 + 29 + 45)/10 = 34,5\n",
    "\n",
    "Mediana: La mediana es la edad que se encuentra en el medio de los datos ordenados.\n",
    "mediana= 35 años\n",
    "\n",
    "3. Moda = 29 años(dos alumnos tienen 29 años)\n",
    "\n",
    "4. Rango: el rango es la diferencia entre la edad maxima y minima\n",
    "   Rango = 45 -22 =23 años\n",
    "   \n",
    "5. Varianza: la varianza mide la dispersion de los datos\n",
    "   varianza = 44,9 años^2\n",
    "\n",
    "6. Desviacion estandar: la desviacion estandar es la raiz cuadrada de la varianza\n",
    "   Desviacion estandar =  44,9 = 6,7 años\n",
    "   \n",
    "interpretacion:\n",
    "\n",
    "La media y la mediana muestran que la edad promedio de los estudiantes es de aproximadamente 34-35 años\n",
    "la moda sugiere que hay una concentracion de estudiantes de 29 años \n",
    "el rango muestra que la edad de los estudiantes varia entre 22 y 45 años \n",
    "la varianza y la desviacion estandar indican que la edad de los estudiantes se dispersa aproximadamente 6,7 años alrededor de la media.\n"
   ]
  }
 ],
 "metadata": {
  "kernelspec": {
   "display_name": "Python 3 (ipykernel)",
   "language": "python",
   "name": "python3"
  },
  "language_info": {
   "codemirror_mode": {
    "name": "ipython",
    "version": 3
   },
   "file_extension": ".py",
   "mimetype": "text/x-python",
   "name": "python",
   "nbconvert_exporter": "python",
   "pygments_lexer": "ipython3",
   "version": "3.11.5"
  }
 },
 "nbformat": 4,
 "nbformat_minor": 5
}
