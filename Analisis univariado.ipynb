{
 "cells": [
  {
   "cell_type": "markdown",
   "id": "bd812112",
   "metadata": {},
   "source": [
    "Claudia Martinez\n",
    "Maestria en Inteligencia Artificial Aplicada\n",
    "\n",
    "\n",
    "# Analisis Univariado\n",
    "\n",
    "Se va a analizar la columna de glucosa, ya que es la que nos va a dar informacion sobre los valores mas relevantes para la diabetes."
   ]
  },
  {
   "cell_type": "code",
   "execution_count": 2,
   "id": "758202d8",
   "metadata": {},
   "outputs": [],
   "source": [
    "#Primero, debemos cargar las librerías que vamos a utilizar:\n",
    "\n",
    "import pandas as pd   ## Libreria para manipular y analizar datos\n",
    "import matplotlib.pyplot as plt  ## Libreria para visualizar\n",
    "import seaborn as sns   ## Libreria para visualizar\n",
    "import numpy as np  ## Libreria para operaciones numéricas\n",
    "import plotly  ## Libreria para visualizaciones interactivas\n",
    "import matplotlib.ticker as mtick  ## función para formatear en visualizaciones\n",
    "from scipy.stats import skew, kurtosis  ## funciones estadísticas"
   ]
  },
  {
   "cell_type": "code",
   "execution_count": 4,
   "id": "4b2f51a1",
   "metadata": {},
   "outputs": [],
   "source": [
    "# Paso 1: Cargar el archivo CSV desde una URL en un DataFrame de Pandas \n",
    "# Ruta del archivo CSV\n",
    "ruta_archivo = 'https://raw.githubusercontent.com/claudia-pixel/taller1/main/diabetes.csv'  # Reemplaza con la ruta de tu archivo CSV\n",
    "# Cargar el archivo CSV en un DataFrame de Pandas \n",
    "data = pd.read_csv(ruta_archivo,sep=';')"
   ]
  },
  {
   "cell_type": "code",
   "execution_count": 5,
   "id": "1ed6ad8e",
   "metadata": {},
   "outputs": [
    {
     "data": {
      "text/html": [
       "<div>\n",
       "<style scoped>\n",
       "    .dataframe tbody tr th:only-of-type {\n",
       "        vertical-align: middle;\n",
       "    }\n",
       "\n",
       "    .dataframe tbody tr th {\n",
       "        vertical-align: top;\n",
       "    }\n",
       "\n",
       "    .dataframe thead th {\n",
       "        text-align: right;\n",
       "    }\n",
       "</style>\n",
       "<table border=\"1\" class=\"dataframe\">\n",
       "  <thead>\n",
       "    <tr style=\"text-align: right;\">\n",
       "      <th></th>\n",
       "      <th>Embarazos</th>\n",
       "      <th>Glucosa</th>\n",
       "      <th>Presion arterial</th>\n",
       "      <th>Espesor de la sangre</th>\n",
       "      <th>Insulina</th>\n",
       "      <th>BMI(indice de masa corporal)</th>\n",
       "      <th>DiabetesPedigreeFunction</th>\n",
       "      <th>Edad</th>\n",
       "      <th>Clase</th>\n",
       "    </tr>\n",
       "  </thead>\n",
       "  <tbody>\n",
       "    <tr>\n",
       "      <th>count</th>\n",
       "      <td>2000.000000</td>\n",
       "      <td>2000.000000</td>\n",
       "      <td>2000.000000</td>\n",
       "      <td>2000.000000</td>\n",
       "      <td>2000.000000</td>\n",
       "      <td>2000.000000</td>\n",
       "      <td>2000.000000</td>\n",
       "      <td>2000.000000</td>\n",
       "      <td>2000.000000</td>\n",
       "    </tr>\n",
       "    <tr>\n",
       "      <th>mean</th>\n",
       "      <td>3.703500</td>\n",
       "      <td>121.182500</td>\n",
       "      <td>69.145500</td>\n",
       "      <td>20.935000</td>\n",
       "      <td>80.254000</td>\n",
       "      <td>32.193000</td>\n",
       "      <td>0.470930</td>\n",
       "      <td>33.090500</td>\n",
       "      <td>0.342000</td>\n",
       "    </tr>\n",
       "    <tr>\n",
       "      <th>std</th>\n",
       "      <td>3.306063</td>\n",
       "      <td>32.068636</td>\n",
       "      <td>19.188315</td>\n",
       "      <td>16.103243</td>\n",
       "      <td>111.180534</td>\n",
       "      <td>8.149901</td>\n",
       "      <td>0.323553</td>\n",
       "      <td>11.786423</td>\n",
       "      <td>0.474498</td>\n",
       "    </tr>\n",
       "    <tr>\n",
       "      <th>min</th>\n",
       "      <td>0.000000</td>\n",
       "      <td>0.000000</td>\n",
       "      <td>0.000000</td>\n",
       "      <td>0.000000</td>\n",
       "      <td>0.000000</td>\n",
       "      <td>0.000000</td>\n",
       "      <td>0.078000</td>\n",
       "      <td>21.000000</td>\n",
       "      <td>0.000000</td>\n",
       "    </tr>\n",
       "    <tr>\n",
       "      <th>25%</th>\n",
       "      <td>1.000000</td>\n",
       "      <td>99.000000</td>\n",
       "      <td>63.500000</td>\n",
       "      <td>0.000000</td>\n",
       "      <td>0.000000</td>\n",
       "      <td>27.375000</td>\n",
       "      <td>0.244000</td>\n",
       "      <td>24.000000</td>\n",
       "      <td>0.000000</td>\n",
       "    </tr>\n",
       "    <tr>\n",
       "      <th>50%</th>\n",
       "      <td>3.000000</td>\n",
       "      <td>117.000000</td>\n",
       "      <td>72.000000</td>\n",
       "      <td>23.000000</td>\n",
       "      <td>40.000000</td>\n",
       "      <td>32.300000</td>\n",
       "      <td>0.376000</td>\n",
       "      <td>29.000000</td>\n",
       "      <td>0.000000</td>\n",
       "    </tr>\n",
       "    <tr>\n",
       "      <th>75%</th>\n",
       "      <td>6.000000</td>\n",
       "      <td>141.000000</td>\n",
       "      <td>80.000000</td>\n",
       "      <td>32.000000</td>\n",
       "      <td>130.000000</td>\n",
       "      <td>36.800000</td>\n",
       "      <td>0.624000</td>\n",
       "      <td>40.000000</td>\n",
       "      <td>1.000000</td>\n",
       "    </tr>\n",
       "    <tr>\n",
       "      <th>max</th>\n",
       "      <td>17.000000</td>\n",
       "      <td>199.000000</td>\n",
       "      <td>122.000000</td>\n",
       "      <td>110.000000</td>\n",
       "      <td>744.000000</td>\n",
       "      <td>80.600000</td>\n",
       "      <td>2.420000</td>\n",
       "      <td>81.000000</td>\n",
       "      <td>1.000000</td>\n",
       "    </tr>\n",
       "  </tbody>\n",
       "</table>\n",
       "</div>"
      ],
      "text/plain": [
       "         Embarazos      Glucosa  Presion arterial  Espesor de la sangre  \\\n",
       "count  2000.000000  2000.000000       2000.000000           2000.000000   \n",
       "mean      3.703500   121.182500         69.145500             20.935000   \n",
       "std       3.306063    32.068636         19.188315             16.103243   \n",
       "min       0.000000     0.000000          0.000000              0.000000   \n",
       "25%       1.000000    99.000000         63.500000              0.000000   \n",
       "50%       3.000000   117.000000         72.000000             23.000000   \n",
       "75%       6.000000   141.000000         80.000000             32.000000   \n",
       "max      17.000000   199.000000        122.000000            110.000000   \n",
       "\n",
       "          Insulina  BMI(indice de masa corporal)  DiabetesPedigreeFunction  \\\n",
       "count  2000.000000                   2000.000000               2000.000000   \n",
       "mean     80.254000                     32.193000                  0.470930   \n",
       "std     111.180534                      8.149901                  0.323553   \n",
       "min       0.000000                      0.000000                  0.078000   \n",
       "25%       0.000000                     27.375000                  0.244000   \n",
       "50%      40.000000                     32.300000                  0.376000   \n",
       "75%     130.000000                     36.800000                  0.624000   \n",
       "max     744.000000                     80.600000                  2.420000   \n",
       "\n",
       "              Edad        Clase  \n",
       "count  2000.000000  2000.000000  \n",
       "mean     33.090500     0.342000  \n",
       "std      11.786423     0.474498  \n",
       "min      21.000000     0.000000  \n",
       "25%      24.000000     0.000000  \n",
       "50%      29.000000     0.000000  \n",
       "75%      40.000000     1.000000  \n",
       "max      81.000000     1.000000  "
      ]
     },
     "execution_count": 5,
     "metadata": {},
     "output_type": "execute_result"
    }
   ],
   "source": [
    "data.describe() #estadisticos descriptivos"
   ]
  },
  {
   "cell_type": "code",
   "execution_count": 6,
   "id": "658a7457",
   "metadata": {},
   "outputs": [
    {
     "name": "stdout",
     "output_type": "stream",
     "text": [
      "Información del conjunto de datos:\n",
      "<class 'pandas.core.frame.DataFrame'>\n",
      "RangeIndex: 2000 entries, 0 to 1999\n",
      "Data columns (total 9 columns):\n",
      " #   Column                        Non-Null Count  Dtype  \n",
      "---  ------                        --------------  -----  \n",
      " 0   Embarazos                     2000 non-null   int64  \n",
      " 1   Glucosa                       2000 non-null   int64  \n",
      " 2   Presion arterial              2000 non-null   int64  \n",
      " 3   Espesor de la sangre          2000 non-null   int64  \n",
      " 4   Insulina                      2000 non-null   int64  \n",
      " 5   BMI(indice de masa corporal)  2000 non-null   float64\n",
      " 6   DiabetesPedigreeFunction      2000 non-null   float64\n",
      " 7   Edad                          2000 non-null   int64  \n",
      " 8   Clase                         2000 non-null   int64  \n",
      "dtypes: float64(2), int64(7)\n",
      "memory usage: 140.8 KB\n",
      "None\n"
     ]
    }
   ],
   "source": [
    "# Paso 2: Análisis Exploratorio de datos simplificado\n",
    "\n",
    "# Puedes imprimir información básica sobre el conjunto de datos\n",
    "\n",
    "print(\"Información del conjunto de datos:\")\n",
    "print(data.info())"
   ]
  },
  {
   "cell_type": "code",
   "execution_count": 7,
   "id": "860bb07b",
   "metadata": {},
   "outputs": [
    {
     "name": "stdout",
     "output_type": "stream",
     "text": [
      "\n",
      "Estadísticas descriptivas:\n",
      "         Embarazos      Glucosa  Presion arterial  Espesor de la sangre  \\\n",
      "count  2000.000000  2000.000000       2000.000000           2000.000000   \n",
      "mean      3.703500   121.182500         69.145500             20.935000   \n",
      "std       3.306063    32.068636         19.188315             16.103243   \n",
      "min       0.000000     0.000000          0.000000              0.000000   \n",
      "25%       1.000000    99.000000         63.500000              0.000000   \n",
      "50%       3.000000   117.000000         72.000000             23.000000   \n",
      "75%       6.000000   141.000000         80.000000             32.000000   \n",
      "max      17.000000   199.000000        122.000000            110.000000   \n",
      "\n",
      "          Insulina  BMI(indice de masa corporal)  DiabetesPedigreeFunction  \\\n",
      "count  2000.000000                   2000.000000               2000.000000   \n",
      "mean     80.254000                     32.193000                  0.470930   \n",
      "std     111.180534                      8.149901                  0.323553   \n",
      "min       0.000000                      0.000000                  0.078000   \n",
      "25%       0.000000                     27.375000                  0.244000   \n",
      "50%      40.000000                     32.300000                  0.376000   \n",
      "75%     130.000000                     36.800000                  0.624000   \n",
      "max     744.000000                     80.600000                  2.420000   \n",
      "\n",
      "              Edad        Clase  \n",
      "count  2000.000000  2000.000000  \n",
      "mean     33.090500     0.342000  \n",
      "std      11.786423     0.474498  \n",
      "min      21.000000     0.000000  \n",
      "25%      24.000000     0.000000  \n",
      "50%      29.000000     0.000000  \n",
      "75%      40.000000     1.000000  \n",
      "max      81.000000     1.000000  \n"
     ]
    }
   ],
   "source": [
    "# Mostrar estadísticas descriptivas\n",
    "print(\"\\nEstadísticas descriptivas:\")\n",
    "print(data.describe())"
   ]
  },
  {
   "cell_type": "code",
   "execution_count": 8,
   "id": "1aef9ad6",
   "metadata": {},
   "outputs": [],
   "source": [
    "# Paso 3: Preprocesamiento de datos \n",
    "# Algo de limpieza de datos\n",
    "# eliminamos los nulos\n",
    "data = data.dropna()"
   ]
  },
  {
   "cell_type": "code",
   "execution_count": 80,
   "id": "77c53dd0",
   "metadata": {},
   "outputs": [
    {
     "name": "stdout",
     "output_type": "stream",
     "text": [
      "<class 'pandas.core.frame.DataFrame'>\n",
      "RangeIndex: 2000 entries, 0 to 1999\n",
      "Data columns (total 9 columns):\n",
      " #   Column                    Non-Null Count  Dtype  \n",
      "---  ------                    --------------  -----  \n",
      " 0   Pregnancies               2000 non-null   int64  \n",
      " 1   Glucose                   2000 non-null   int64  \n",
      " 2   BloodPressure             2000 non-null   int64  \n",
      " 3   SkinThickness             2000 non-null   int64  \n",
      " 4   Insulin                   2000 non-null   int64  \n",
      " 5   BMI                       2000 non-null   float64\n",
      " 6   DiabetesPedigreeFunction  2000 non-null   float64\n",
      " 7   Age                       2000 non-null   int64  \n",
      " 8   Clase                     2000 non-null   int64  \n",
      "dtypes: float64(2), int64(7)\n",
      "memory usage: 140.8 KB\n",
      "None\n"
     ]
    }
   ],
   "source": [
    "# mostramos nuevemamente la información general del dataset \n",
    "# para verificar que no hayan nulos\n",
    "print(data.info())"
   ]
  },
  {
   "cell_type": "markdown",
   "id": "5b3d1bc8",
   "metadata": {},
   "source": [
    "iniciamos los vectores"
   ]
  },
  {
   "cell_type": "code",
   "execution_count": 10,
   "id": "c2eb4efb",
   "metadata": {},
   "outputs": [],
   "source": [
    "vector_media=[]\n",
    "vector_mediana=[]\n",
    "vector_moda=[]\n",
    "vector_rango=[]\n",
    "vector_varianza=[]\n",
    "vector_desviacion=[]\n",
    "maximo=[]\n",
    "minimo=[] "
   ]
  },
  {
   "cell_type": "code",
   "execution_count": 11,
   "id": "2c48db75",
   "metadata": {},
   "outputs": [
    {
     "data": {
      "text/plain": [
       "0       138\n",
       "1        84\n",
       "2       145\n",
       "3       135\n",
       "4       139\n",
       "       ... \n",
       "1995     75\n",
       "1996    179\n",
       "1997     85\n",
       "1998    129\n",
       "1999     81\n",
       "Name: Glucosa, Length: 2000, dtype: int64"
      ]
     },
     "execution_count": 11,
     "metadata": {},
     "output_type": "execute_result"
    }
   ],
   "source": [
    "resultado = data['Glucosa'] #separando el dataframe por la variable Glucose.\n",
    "resultado"
   ]
  },
  {
   "cell_type": "markdown",
   "id": "56a8831b",
   "metadata": {},
   "source": [
    "Encontrar la media"
   ]
  },
  {
   "cell_type": "code",
   "execution_count": 12,
   "id": "819113fb",
   "metadata": {},
   "outputs": [
    {
     "data": {
      "text/plain": [
       "121.1825"
      ]
     },
     "execution_count": 12,
     "metadata": {},
     "output_type": "execute_result"
    }
   ],
   "source": [
    "media = np.mean(resultado)\n",
    "vector_media.append(media)\n",
    "media"
   ]
  },
  {
   "cell_type": "markdown",
   "id": "dfe25082",
   "metadata": {},
   "source": [
    "Encontrar la mediana"
   ]
  },
  {
   "cell_type": "code",
   "execution_count": 13,
   "id": "30345a51",
   "metadata": {},
   "outputs": [
    {
     "data": {
      "text/plain": [
       "117.0"
      ]
     },
     "execution_count": 13,
     "metadata": {},
     "output_type": "execute_result"
    }
   ],
   "source": [
    "mediana = np.median(resultado)\n",
    "vector_mediana.append(mediana)\n",
    "mediana"
   ]
  },
  {
   "cell_type": "markdown",
   "id": "1109c248",
   "metadata": {},
   "source": [
    "Calcular rango"
   ]
  },
  {
   "cell_type": "code",
   "execution_count": 14,
   "id": "8f770f2a",
   "metadata": {},
   "outputs": [
    {
     "data": {
      "text/plain": [
       "199"
      ]
     },
     "execution_count": 14,
     "metadata": {},
     "output_type": "execute_result"
    }
   ],
   "source": [
    "rango = np.max(resultado) - np.min(resultado)\n",
    "vector_rango.append(rango)\n",
    "maximo = np.max(resultado)\n",
    "minimo = np.min(resultado)\n",
    "rango"
   ]
  },
  {
   "cell_type": "markdown",
   "id": "1dc01e93",
   "metadata": {},
   "source": [
    "Calcular varianza"
   ]
  },
  {
   "cell_type": "code",
   "execution_count": 87,
   "id": "84ab65ce",
   "metadata": {},
   "outputs": [
    {
     "data": {
      "text/plain": [
       "1027.8831937500001"
      ]
     },
     "execution_count": 87,
     "metadata": {},
     "output_type": "execute_result"
    }
   ],
   "source": [
    "varianza = np.var(resultado)\n",
    "vector_varianza.append(varianza)\n",
    "varianza"
   ]
  },
  {
   "cell_type": "code",
   "execution_count": null,
   "id": "2d6160b2",
   "metadata": {},
   "outputs": [],
   "source": [
    "Calcular desviacion estandar"
   ]
  },
  {
   "cell_type": "code",
   "execution_count": 88,
   "id": "16c4c805",
   "metadata": {},
   "outputs": [
    {
     "data": {
      "text/plain": [
       "32.06061748859495"
      ]
     },
     "execution_count": 88,
     "metadata": {},
     "output_type": "execute_result"
    }
   ],
   "source": [
    "desviacion = np.std(resultado)\n",
    "vector_desviacion.append(desviacion)\n",
    "desviacion"
   ]
  },
  {
   "cell_type": "markdown",
   "id": "76b990b7",
   "metadata": {},
   "source": [
    "Interpretacion:\n",
    "\n",
    "La media y la mediana muestran que la glucosa de los pacientes esta en un promedio de aproximadamente 121-117.\n",
    "El rango muestra que la glucosa de los pacientes varia entre 0 y 199. \n",
    "La varianza y la desviacion estandar indican que el valor de la glucosa se dispersa aproximadamente 1027.88 alrededor de la media."
   ]
  },
  {
   "cell_type": "code",
   "execution_count": 15,
   "id": "3320a75a",
   "metadata": {},
   "outputs": [
    {
     "data": {
      "text/plain": [
       "<Axes: xlabel='Glucosa', ylabel='Edad'>"
      ]
     },
     "execution_count": 15,
     "metadata": {},
     "output_type": "execute_result"
    },
    {
     "data": {
      "image/png": "[encoded data removed]",
      "text/plain": [
       "<Figure size 640x480 with 1 Axes>"
      ]
     },
     "metadata": {},
     "output_type": "display_data"
    }
   ],
   "source": [
    "sns.scatterplot(data=data, x='Glucosa', y='Edad')"
   ]
  },
  {
   "cell_type": "markdown",
   "id": "17b3a7ae",
   "metadata": {},
   "source": [
    "El diagrama de dispersion muestra una relacion fuerte entre las variables. una glucosa mayor a 75 revela que es mas propenso a sufrir diabetes, con respecto a la edad. "
   ]
  },
  {
   "cell_type": "code",
   "execution_count": 16,
   "id": "747ca47a",
   "metadata": {},
   "outputs": [],
   "source": [
    "df = data.copy() #copia de dataframe"
   ]
  },
  {
   "cell_type": "code",
   "execution_count": 17,
   "id": "fba40a6c",
   "metadata": {},
   "outputs": [
    {
     "data": {
      "text/html": [
       "<div>\n",
       "<style scoped>\n",
       "    .dataframe tbody tr th:only-of-type {\n",
       "        vertical-align: middle;\n",
       "    }\n",
       "\n",
       "    .dataframe tbody tr th {\n",
       "        vertical-align: top;\n",
       "    }\n",
       "\n",
       "    .dataframe thead th {\n",
       "        text-align: right;\n",
       "    }\n",
       "</style>\n",
       "<table border=\"1\" class=\"dataframe\">\n",
       "  <thead>\n",
       "    <tr style=\"text-align: right;\">\n",
       "      <th></th>\n",
       "      <th>Embarazos</th>\n",
       "      <th>Glucosa</th>\n",
       "      <th>Presion arterial</th>\n",
       "      <th>Espesor de la sangre</th>\n",
       "      <th>Insulina</th>\n",
       "      <th>BMI(indice de masa corporal)</th>\n",
       "      <th>DiabetesPedigreeFunction</th>\n",
       "      <th>Edad</th>\n",
       "      <th>Clase</th>\n",
       "    </tr>\n",
       "  </thead>\n",
       "  <tbody>\n",
       "    <tr>\n",
       "      <th>count</th>\n",
       "      <td>2000.000000</td>\n",
       "      <td>2000.000000</td>\n",
       "      <td>2000.000000</td>\n",
       "      <td>2000.000000</td>\n",
       "      <td>2000.000000</td>\n",
       "      <td>2000.000000</td>\n",
       "      <td>2000.000000</td>\n",
       "      <td>2000.000000</td>\n",
       "      <td>2000.000000</td>\n",
       "    </tr>\n",
       "    <tr>\n",
       "      <th>mean</th>\n",
       "      <td>3.703500</td>\n",
       "      <td>121.182500</td>\n",
       "      <td>69.145500</td>\n",
       "      <td>20.935000</td>\n",
       "      <td>80.254000</td>\n",
       "      <td>32.193000</td>\n",
       "      <td>0.470930</td>\n",
       "      <td>33.090500</td>\n",
       "      <td>0.342000</td>\n",
       "    </tr>\n",
       "    <tr>\n",
       "      <th>std</th>\n",
       "      <td>3.306063</td>\n",
       "      <td>32.068636</td>\n",
       "      <td>19.188315</td>\n",
       "      <td>16.103243</td>\n",
       "      <td>111.180534</td>\n",
       "      <td>8.149901</td>\n",
       "      <td>0.323553</td>\n",
       "      <td>11.786423</td>\n",
       "      <td>0.474498</td>\n",
       "    </tr>\n",
       "    <tr>\n",
       "      <th>min</th>\n",
       "      <td>0.000000</td>\n",
       "      <td>0.000000</td>\n",
       "      <td>0.000000</td>\n",
       "      <td>0.000000</td>\n",
       "      <td>0.000000</td>\n",
       "      <td>0.000000</td>\n",
       "      <td>0.078000</td>\n",
       "      <td>21.000000</td>\n",
       "      <td>0.000000</td>\n",
       "    </tr>\n",
       "    <tr>\n",
       "      <th>25%</th>\n",
       "      <td>1.000000</td>\n",
       "      <td>99.000000</td>\n",
       "      <td>63.500000</td>\n",
       "      <td>0.000000</td>\n",
       "      <td>0.000000</td>\n",
       "      <td>27.375000</td>\n",
       "      <td>0.244000</td>\n",
       "      <td>24.000000</td>\n",
       "      <td>0.000000</td>\n",
       "    </tr>\n",
       "    <tr>\n",
       "      <th>50%</th>\n",
       "      <td>3.000000</td>\n",
       "      <td>117.000000</td>\n",
       "      <td>72.000000</td>\n",
       "      <td>23.000000</td>\n",
       "      <td>40.000000</td>\n",
       "      <td>32.300000</td>\n",
       "      <td>0.376000</td>\n",
       "      <td>29.000000</td>\n",
       "      <td>0.000000</td>\n",
       "    </tr>\n",
       "    <tr>\n",
       "      <th>75%</th>\n",
       "      <td>6.000000</td>\n",
       "      <td>141.000000</td>\n",
       "      <td>80.000000</td>\n",
       "      <td>32.000000</td>\n",
       "      <td>130.000000</td>\n",
       "      <td>36.800000</td>\n",
       "      <td>0.624000</td>\n",
       "      <td>40.000000</td>\n",
       "      <td>1.000000</td>\n",
       "    </tr>\n",
       "    <tr>\n",
       "      <th>max</th>\n",
       "      <td>17.000000</td>\n",
       "      <td>199.000000</td>\n",
       "      <td>122.000000</td>\n",
       "      <td>110.000000</td>\n",
       "      <td>744.000000</td>\n",
       "      <td>80.600000</td>\n",
       "      <td>2.420000</td>\n",
       "      <td>81.000000</td>\n",
       "      <td>1.000000</td>\n",
       "    </tr>\n",
       "  </tbody>\n",
       "</table>\n",
       "</div>"
      ],
      "text/plain": [
       "         Embarazos      Glucosa  Presion arterial  Espesor de la sangre  \\\n",
       "count  2000.000000  2000.000000       2000.000000           2000.000000   \n",
       "mean      3.703500   121.182500         69.145500             20.935000   \n",
       "std       3.306063    32.068636         19.188315             16.103243   \n",
       "min       0.000000     0.000000          0.000000              0.000000   \n",
       "25%       1.000000    99.000000         63.500000              0.000000   \n",
       "50%       3.000000   117.000000         72.000000             23.000000   \n",
       "75%       6.000000   141.000000         80.000000             32.000000   \n",
       "max      17.000000   199.000000        122.000000            110.000000   \n",
       "\n",
       "          Insulina  BMI(indice de masa corporal)  DiabetesPedigreeFunction  \\\n",
       "count  2000.000000                   2000.000000               2000.000000   \n",
       "mean     80.254000                     32.193000                  0.470930   \n",
       "std     111.180534                      8.149901                  0.323553   \n",
       "min       0.000000                      0.000000                  0.078000   \n",
       "25%       0.000000                     27.375000                  0.244000   \n",
       "50%      40.000000                     32.300000                  0.376000   \n",
       "75%     130.000000                     36.800000                  0.624000   \n",
       "max     744.000000                     80.600000                  2.420000   \n",
       "\n",
       "              Edad        Clase  \n",
       "count  2000.000000  2000.000000  \n",
       "mean     33.090500     0.342000  \n",
       "std      11.786423     0.474498  \n",
       "min      21.000000     0.000000  \n",
       "25%      24.000000     0.000000  \n",
       "50%      29.000000     0.000000  \n",
       "75%      40.000000     1.000000  \n",
       "max      81.000000     1.000000  "
      ]
     },
     "execution_count": 17,
     "metadata": {},
     "output_type": "execute_result"
    }
   ],
   "source": [
    "df.describe()"
   ]
  },
  {
   "cell_type": "code",
   "execution_count": 24,
   "id": "c85cdfd0",
   "metadata": {},
   "outputs": [
    {
     "data": {
      "text/plain": [
       "(array([ 13.,   0.,  10.,  75., 422., 527., 431., 245., 160., 117.]),\n",
       " array([  0. ,  19.9,  39.8,  59.7,  79.6,  99.5, 119.4, 139.3, 159.2,\n",
       "        179.1, 199. ]),\n",
       " <BarContainer object of 10 artists>)"
      ]
     },
     "execution_count": 24,
     "metadata": {},
     "output_type": "execute_result"
    },
    {
     "data": {
      "image/png": "[encoded data removed]",
      "text/plain": [
       "<Figure size 640x480 with 1 Axes>"
      ]
     },
     "metadata": {},
     "output_type": "display_data"
    }
   ],
   "source": [
    "plt.hist(df['Glucosa'])"
   ]
  },
  {
   "cell_type": "code",
   "execution_count": 102,
   "id": "ece3a34e",
   "metadata": {},
   "outputs": [
    {
     "data": {
      "text/plain": [
       "array([[1.        , 0.25986369],\n",
       "       [0.25986369, 1.        ]])"
      ]
     },
     "execution_count": 102,
     "metadata": {},
     "output_type": "execute_result"
    }
   ],
   "source": [
    "np.corrcoef(df['Glucose'], data['Age']) #matriz de correlacion"
   ]
  },
  {
   "cell_type": "markdown",
   "id": "e5ff3464",
   "metadata": {},
   "source": [
    "Conclusion\n",
    "La correlación entre todas las características es únicamente positiva. Por lo tanto, si un valor aumenta los demas valores aumentaran directamente proporcional."
   ]
  },
  {
   "cell_type": "code",
   "execution_count": 105,
   "id": "f135657f",
   "metadata": {},
   "outputs": [
    {
     "data": {
      "text/plain": [
       "<Axes: xlabel='Clase', ylabel='Age'>"
      ]
     },
     "execution_count": 105,
     "metadata": {},
     "output_type": "execute_result"
    },
    {
     "data": {
      "image/png": "[encoded data removed]",
      "text/plain": [
       "<Figure size 640x480 with 1 Axes>"
      ]
     },
     "metadata": {},
     "output_type": "display_data"
    }
   ],
   "source": [
    "sns.boxplot(data=df,y = df['Age'],x = 'Clase')"
   ]
  },
  {
   "cell_type": "markdown",
   "id": "65ce6c0c",
   "metadata": {},
   "source": [
    "Conclusion\n",
    "Entre mas edad mas probabilidad de contraer diabetes. Si es mayor de 40 años es mas alta la probabilidad de tener diabetes."
   ]
  },
  {
   "cell_type": "code",
   "execution_count": 106,
   "id": "80408835",
   "metadata": {},
   "outputs": [
    {
     "data": {
      "text/plain": [
       "<Axes: xlabel='Clase', ylabel='Glucose'>"
      ]
     },
     "execution_count": 106,
     "metadata": {},
     "output_type": "execute_result"
    },
    {
     "data": {
      "image/png": "[encoded data removed]",
      "text/plain": [
       "<Figure size 640x480 with 1 Axes>"
      ]
     },
     "metadata": {},
     "output_type": "display_data"
    }
   ],
   "source": [
    "sns.boxplot(data=df,y = df['Glucose'],x = df['Clase'])"
   ]
  },
  {
   "cell_type": "markdown",
   "id": "5392b9f2",
   "metadata": {},
   "source": [
    "Conclusion\n",
    "Si el nivel de glucosa está por encima de 120 la probabilidad de tener diabetes es mayor."
   ]
  },
  {
   "cell_type": "code",
   "execution_count": 107,
   "id": "dc1f5f85",
   "metadata": {},
   "outputs": [
    {
     "data": {
      "text/plain": [
       "<Axes: xlabel='Clase', ylabel='BloodPressure'>"
      ]
     },
     "execution_count": 107,
     "metadata": {},
     "output_type": "execute_result"
    },
    {
     "data": {
      "image/png": "[encoded data removed]",
      "text/plain": [
       "<Figure size 640x480 with 1 Axes>"
      ]
     },
     "metadata": {},
     "output_type": "display_data"
    }
   ],
   "source": [
    "sns.boxplot(data=df,y = df['BloodPressure'],x = df['Clase'])"
   ]
  },
  {
   "cell_type": "code",
   "execution_count": null,
   "id": "c85360b3",
   "metadata": {},
   "outputs": [],
   "source": [
    "Conclusion\n",
    "Si la presion es mas de 80, la probabilidad de tener diabetes es mas alta."
   ]
  },
  {
   "cell_type": "code",
   "execution_count": 108,
   "id": "7ca1ac58",
   "metadata": {},
   "outputs": [
    {
     "data": {
      "text/plain": [
       "<Axes: xlabel='Clase', ylabel='SkinThickness'>"
      ]
     },
     "execution_count": 108,
     "metadata": {},
     "output_type": "execute_result"
    },
    {
     "data": {
      "image/png": "[encoded data removed]",
      "text/plain": [
       "<Figure size 640x480 with 1 Axes>"
      ]
     },
     "metadata": {},
     "output_type": "display_data"
    }
   ],
   "source": [
    "sns.boxplot(data=df,y = df['SkinThickness'],x = df['Clase'])"
   ]
  },
  {
   "cell_type": "code",
   "execution_count": null,
   "id": "c4d6e287",
   "metadata": {},
   "outputs": [],
   "source": [
    "Conclusion\n",
    "Entre mas gruesa la piel mas alta la posibilidad de tener diabetes."
   ]
  },
  {
   "cell_type": "code",
   "execution_count": 109,
   "id": "d1043e05",
   "metadata": {},
   "outputs": [
    {
     "data": {
      "text/plain": [
       "<Axes: xlabel='Clase', ylabel='Insulin'>"
      ]
     },
     "execution_count": 109,
     "metadata": {},
     "output_type": "execute_result"
    },
    {
     "data": {
      "image/png": "[encoded data removed]",
      "text/plain": [
       "<Figure size 640x480 with 1 Axes>"
      ]
     },
     "metadata": {},
     "output_type": "display_data"
    }
   ],
   "source": [
    "sns.boxplot(data=df,y = df['Insulin'],x = 'Clase')"
   ]
  },
  {
   "cell_type": "markdown",
   "id": "9c32604c",
   "metadata": {},
   "source": [
    "Conclusion\n",
    "valores de insulina mayores a 100 tendra mas posibilidad de tener diabetes"
   ]
  },
  {
   "cell_type": "code",
   "execution_count": 111,
   "id": "ab0d4ff1",
   "metadata": {},
   "outputs": [
    {
     "data": {
      "text/plain": [
       "<Axes: xlabel='Clase', ylabel='BMI'>"
      ]
     },
     "execution_count": 111,
     "metadata": {},
     "output_type": "execute_result"
    },
    {
     "data": {
      "image/png": "[encoded data removed]",
      "text/plain": [
       "<Figure size 640x480 with 1 Axes>"
      ]
     },
     "metadata": {},
     "output_type": "display_data"
    }
   ],
   "source": [
    "sns.boxplot(data=df,y = df['BMI'],x = 'Clase')"
   ]
  },
  {
   "cell_type": "markdown",
   "id": "7e315d82",
   "metadata": {},
   "source": [
    "Conclusion\n",
    "entre mas indice de masa corporal mas posibilidad de tener diabetes. si el indice de masa corporal es mayor a 35 mayor es el riesgo"
   ]
  },
  {
   "cell_type": "code",
   "execution_count": 112,
   "id": "76c26a6a",
   "metadata": {},
   "outputs": [
    {
     "data": {
      "text/plain": [
       "<Axes: xlabel='Clase', ylabel='DiabetesPedigreeFunction'>"
      ]
     },
     "execution_count": 112,
     "metadata": {},
     "output_type": "execute_result"
    },
    {
     "data": {
      "image/png": "[encoded data removed]",
      "text/plain": [
       "<Figure size 640x480 with 1 Axes>"
      ]
     },
     "metadata": {},
     "output_type": "display_data"
    }
   ],
   "source": [
    "sns.boxplot(data=df,y = df['DiabetesPedigreeFunction'],x = 'Clase')"
   ]
  },
  {
   "cell_type": "markdown",
   "id": "6feddd3a",
   "metadata": {},
   "source": [
    "Conclusion\n",
    "El valor PDF aumenta muy poco con respecto a los valores de diabetes"
   ]
  },
  {
   "cell_type": "markdown",
   "id": "4380982d",
   "metadata": {},
   "source": [
    "CONCLUSION\n",
    "\n",
    "Todas las variables que estan en el dataset: Embarazos,\tGlucosa,Presion arterial,Espesor de la sangre,Insulina,BMI(indice de masa corporal), DiabetesPedigreeFunction,Edad,Clase. Nos muestran una correlacion fuerte entre ellas ya que cualquier valor que incremente con respecto a la glucosa aumentara la probabilidad de sufrir diabetes. \n",
    "a mayor edad mayor probabilidad de tener diabetes\n",
    "a mayor numero de embarazos mayor probabilidad de tener diabetes\n",
    "a mayor BMI(indice de masa corporal) mayor probabilidad de padecer diabetes\n",
    "a mayor presion arterial mayor probabilidad de tener diabetes\n",
    "a mayor porcentaje de insulina mayor posibilidad de padecer diabetes"
   ]
  }
 ],
 "metadata": {
  "kernelspec": {
   "display_name": "Python 3 (ipykernel)",
   "language": "python",
   "name": "python3"
  },
  "language_info": {
   "codemirror_mode": {
    "name": "ipython",
    "version": 3
   },
   "file_extension": ".py",
   "mimetype": "text/x-python",
   "name": "python",
   "nbconvert_exporter": "python",
   "pygments_lexer": "ipython3",
   "version": "3.11.5"
  }
 },
 "nbformat": 4,
 "nbformat_minor": 5
}
