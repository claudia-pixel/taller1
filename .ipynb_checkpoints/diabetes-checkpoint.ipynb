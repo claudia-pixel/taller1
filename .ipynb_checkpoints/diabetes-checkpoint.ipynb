{
 "cells": [
  {
   "cell_type": "code",
   "execution_count": null,
   "id": "d8859194",
   "metadata": {},
   "outputs": [],
   "source": [
    "# Importamos las bibliotecas necesarias\n",
    "\n",
    "# bibliotecas para manipulación de datos\n",
    "import pandas as pd\n",
    "\n",
    "# bibliotecas para preprocesamiento\n",
    "from sklearn.model_selection import train_test_split\n",
    "# bibliotecas para modelado\n",
    "from sklearn.ensemble import RandomForestClassifier\n",
    "# bibliotecas para evaluación\n",
    "from sklearn.metrics import accuracy_score, classification_report, confusion_matrix\n",
    "# bibliotecas para visualización\n",
    "import matplotlib.pyplot as plt\n",
    "import seaborn as sns\n",
    "import numpy as np\n",
    "from sklearn.linear_model import LinearRegression"
   ]
  },
  {
   "cell_type": "code",
   "execution_count": null,
   "id": "ea0d609c",
   "metadata": {},
   "outputs": [],
   "source": [
    "# Paso 1: Cargar el archivo CSV desde una URL en un DataFrame de Pandas \n",
    "# Ruta del archivo CSV\n",
    "#ruta_archivo = 'https://raw.githubusercontent.com/armandoordonez/eda_couse/main/data/prediccion_prestamo_train.csv'  # Reemplaza con la ruta de tu archivo CSV\n",
    "ruta_archivo = 'https://raw.githubusercontent.com/claudia-pixel/taller1/main/diabetes.csv'\n",
    "# Cargar el archivo CSV en un DataFrame de Pandas \n",
    "data = pd.read_csv(ruta_archivo, sep=';')"
   ]
  },
  {
   "cell_type": "code",
   "execution_count": 17,
   "id": "83bb7dea",
   "metadata": {},
   "outputs": [
    {
     "name": "stdout",
     "output_type": "stream",
     "text": [
      "Información del conjunto de datos:\n",
      "<class 'pandas.core.frame.DataFrame'>\n",
      "RangeIndex: 2000 entries, 0 to 1999\n",
      "Data columns (total 1 columns):\n",
      " #   Column                                                                                                                             Non-Null Count  Dtype \n",
      "---  ------                                                                                                                             --------------  ----- \n",
      " 0   Embarazos;Glucosa;Presion arterial;Espesor de la sangre;Insulina;BMI(indice de masa corporal);DiabetesPedigreeFunction;Edad;Clase  2000 non-null   object\n",
      "dtypes: object(1)\n",
      "memory usage: 15.8+ KB\n",
      "None\n"
     ]
    }
   ],
   "source": [
    "\n",
    "# Paso 2: Análisis Exploratorio de datos simplificado\n",
    "\n",
    "# Puedes imprimir información básica sobre el conjunto de datos\n",
    "\n",
    "print(\"Información del conjunto de datos:\")\n",
    "print(data.info())\n"
   ]
  },
  {
   "cell_type": "code",
   "execution_count": 5,
   "id": "d686ef74",
   "metadata": {},
   "outputs": [
    {
     "name": "stdout",
     "output_type": "stream",
     "text": [
      "\n",
      "Primeras filas del conjunto de datos:\n"
     ]
    },
    {
     "data": {
      "text/html": [
       "<div>\n",
       "<style scoped>\n",
       "    .dataframe tbody tr th:only-of-type {\n",
       "        vertical-align: middle;\n",
       "    }\n",
       "\n",
       "    .dataframe tbody tr th {\n",
       "        vertical-align: top;\n",
       "    }\n",
       "\n",
       "    .dataframe thead th {\n",
       "        text-align: right;\n",
       "    }\n",
       "</style>\n",
       "<table border=\"1\" class=\"dataframe\">\n",
       "  <thead>\n",
       "    <tr style=\"text-align: right;\">\n",
       "      <th></th>\n",
       "      <th>Embarazos</th>\n",
       "      <th>Glucosa</th>\n",
       "      <th>Presion arterial</th>\n",
       "      <th>Espesor de la sangre</th>\n",
       "      <th>Insulina</th>\n",
       "      <th>BMI(indice de masa corporal)</th>\n",
       "      <th>DiabetesPedigreeFunction</th>\n",
       "      <th>Edad</th>\n",
       "      <th>Clase</th>\n",
       "    </tr>\n",
       "  </thead>\n",
       "  <tbody>\n",
       "    <tr>\n",
       "      <th>0</th>\n",
       "      <td>2</td>\n",
       "      <td>138</td>\n",
       "      <td>62</td>\n",
       "      <td>35</td>\n",
       "      <td>0</td>\n",
       "      <td>33.6</td>\n",
       "      <td>0.127</td>\n",
       "      <td>47</td>\n",
       "      <td>1</td>\n",
       "    </tr>\n",
       "    <tr>\n",
       "      <th>1</th>\n",
       "      <td>0</td>\n",
       "      <td>84</td>\n",
       "      <td>82</td>\n",
       "      <td>31</td>\n",
       "      <td>125</td>\n",
       "      <td>38.2</td>\n",
       "      <td>0.233</td>\n",
       "      <td>23</td>\n",
       "      <td>0</td>\n",
       "    </tr>\n",
       "    <tr>\n",
       "      <th>2</th>\n",
       "      <td>0</td>\n",
       "      <td>145</td>\n",
       "      <td>0</td>\n",
       "      <td>0</td>\n",
       "      <td>0</td>\n",
       "      <td>44.2</td>\n",
       "      <td>0.630</td>\n",
       "      <td>31</td>\n",
       "      <td>1</td>\n",
       "    </tr>\n",
       "    <tr>\n",
       "      <th>3</th>\n",
       "      <td>0</td>\n",
       "      <td>135</td>\n",
       "      <td>68</td>\n",
       "      <td>42</td>\n",
       "      <td>250</td>\n",
       "      <td>42.3</td>\n",
       "      <td>0.365</td>\n",
       "      <td>24</td>\n",
       "      <td>1</td>\n",
       "    </tr>\n",
       "    <tr>\n",
       "      <th>4</th>\n",
       "      <td>1</td>\n",
       "      <td>139</td>\n",
       "      <td>62</td>\n",
       "      <td>41</td>\n",
       "      <td>480</td>\n",
       "      <td>40.7</td>\n",
       "      <td>0.536</td>\n",
       "      <td>21</td>\n",
       "      <td>0</td>\n",
       "    </tr>\n",
       "  </tbody>\n",
       "</table>\n",
       "</div>"
      ],
      "text/plain": [
       "   Embarazos  Glucosa  Presion arterial  Espesor de la sangre  Insulina  \\\n",
       "0          2      138                62                    35         0   \n",
       "1          0       84                82                    31       125   \n",
       "2          0      145                 0                     0         0   \n",
       "3          0      135                68                    42       250   \n",
       "4          1      139                62                    41       480   \n",
       "\n",
       "   BMI(indice de masa corporal)  DiabetesPedigreeFunction  Edad  Clase  \n",
       "0                          33.6                     0.127    47      1  \n",
       "1                          38.2                     0.233    23      0  \n",
       "2                          44.2                     0.630    31      1  \n",
       "3                          42.3                     0.365    24      1  \n",
       "4                          40.7                     0.536    21      0  "
      ]
     },
     "execution_count": 5,
     "metadata": {},
     "output_type": "execute_result"
    }
   ],
   "source": [
    "# Visualizar las primeras filas del conjunto de datos\n",
    "\n",
    "print(\"\\nPrimeras filas del conjunto de datos:\")\n",
    "data.head(5)"
   ]
  },
  {
   "cell_type": "code",
   "execution_count": 21,
   "id": "83551c58",
   "metadata": {},
   "outputs": [
    {
     "name": "stdout",
     "output_type": "stream",
     "text": [
      "Información del conjunto de datos:\n",
      "<class 'pandas.core.frame.DataFrame'>\n",
      "RangeIndex: 2000 entries, 0 to 1999\n",
      "Data columns (total 9 columns):\n",
      " #   Column                        Non-Null Count  Dtype  \n",
      "---  ------                        --------------  -----  \n",
      " 0   Embarazos                     2000 non-null   int64  \n",
      " 1   Glucosa                       2000 non-null   int64  \n",
      " 2   Presion arterial              2000 non-null   int64  \n",
      " 3   Espesor de la sangre          2000 non-null   int64  \n",
      " 4   Insulina                      2000 non-null   int64  \n",
      " 5   BMI(indice de masa corporal)  2000 non-null   float64\n",
      " 6   DiabetesPedigreeFunction      2000 non-null   float64\n",
      " 7   Edad                          2000 non-null   int64  \n",
      " 8   Clase                         2000 non-null   int64  \n",
      "dtypes: float64(2), int64(7)\n",
      "memory usage: 140.8 KB\n",
      "None\n"
     ]
    }
   ],
   "source": [
    "# Paso 2: Análisis Exploratorio de datos simplificado\n",
    "\n",
    "# Puedes imprimir información básica sobre el conjunto de datos\n",
    "\n",
    "print(\"Información del conjunto de datos:\")\n",
    "print(data.info())"
   ]
  },
  {
   "cell_type": "code",
   "execution_count": 6,
   "id": "43a0f732",
   "metadata": {},
   "outputs": [
    {
     "name": "stdout",
     "output_type": "stream",
     "text": [
      "\n",
      "Estadísticas descriptivas:\n",
      "         Embarazos      Glucosa  Presion arterial  Espesor de la sangre  \\\n",
      "count  2000.000000  2000.000000       2000.000000           2000.000000   \n",
      "mean      3.703500   121.182500         69.145500             20.935000   \n",
      "std       3.306063    32.068636         19.188315             16.103243   \n",
      "min       0.000000     0.000000          0.000000              0.000000   \n",
      "25%       1.000000    99.000000         63.500000              0.000000   \n",
      "50%       3.000000   117.000000         72.000000             23.000000   \n",
      "75%       6.000000   141.000000         80.000000             32.000000   \n",
      "max      17.000000   199.000000        122.000000            110.000000   \n",
      "\n",
      "          Insulina  BMI(indice de masa corporal)  DiabetesPedigreeFunction  \\\n",
      "count  2000.000000                   2000.000000               2000.000000   \n",
      "mean     80.254000                     32.193000                  0.470930   \n",
      "std     111.180534                      8.149901                  0.323553   \n",
      "min       0.000000                      0.000000                  0.078000   \n",
      "25%       0.000000                     27.375000                  0.244000   \n",
      "50%      40.000000                     32.300000                  0.376000   \n",
      "75%     130.000000                     36.800000                  0.624000   \n",
      "max     744.000000                     80.600000                  2.420000   \n",
      "\n",
      "              Edad        Clase  \n",
      "count  2000.000000  2000.000000  \n",
      "mean     33.090500     0.342000  \n",
      "std      11.786423     0.474498  \n",
      "min      21.000000     0.000000  \n",
      "25%      24.000000     0.000000  \n",
      "50%      29.000000     0.000000  \n",
      "75%      40.000000     1.000000  \n",
      "max      81.000000     1.000000  \n"
     ]
    }
   ],
   "source": [
    "# Mostrar estadísticas descriptivas\n",
    "print(\"\\nEstadísticas descriptivas:\")\n",
    "print(data.describe())\n",
    "# "
   ]
  },
  {
   "cell_type": "code",
   "execution_count": 23,
   "id": "78d08e78",
   "metadata": {},
   "outputs": [
    {
     "data": {
      "text/html": [
       "<div>\n",
       "<style scoped>\n",
       "    .dataframe tbody tr th:only-of-type {\n",
       "        vertical-align: middle;\n",
       "    }\n",
       "\n",
       "    .dataframe tbody tr th {\n",
       "        vertical-align: top;\n",
       "    }\n",
       "\n",
       "    .dataframe thead th {\n",
       "        text-align: right;\n",
       "    }\n",
       "</style>\n",
       "<table border=\"1\" class=\"dataframe\">\n",
       "  <thead>\n",
       "    <tr style=\"text-align: right;\">\n",
       "      <th></th>\n",
       "      <th>Embarazos</th>\n",
       "      <th>Glucosa</th>\n",
       "      <th>Presion arterial</th>\n",
       "      <th>Espesor de la sangre</th>\n",
       "      <th>Insulina</th>\n",
       "      <th>BMI(indice de masa corporal)</th>\n",
       "      <th>DiabetesPedigreeFunction</th>\n",
       "      <th>Edad</th>\n",
       "      <th>Clase</th>\n",
       "    </tr>\n",
       "  </thead>\n",
       "  <tbody>\n",
       "    <tr>\n",
       "      <th>0</th>\n",
       "      <td>2</td>\n",
       "      <td>138</td>\n",
       "      <td>62</td>\n",
       "      <td>35</td>\n",
       "      <td>0</td>\n",
       "      <td>33.6</td>\n",
       "      <td>0.127</td>\n",
       "      <td>47</td>\n",
       "      <td>1</td>\n",
       "    </tr>\n",
       "    <tr>\n",
       "      <th>1</th>\n",
       "      <td>0</td>\n",
       "      <td>84</td>\n",
       "      <td>82</td>\n",
       "      <td>31</td>\n",
       "      <td>125</td>\n",
       "      <td>38.2</td>\n",
       "      <td>0.233</td>\n",
       "      <td>23</td>\n",
       "      <td>0</td>\n",
       "    </tr>\n",
       "    <tr>\n",
       "      <th>2</th>\n",
       "      <td>0</td>\n",
       "      <td>145</td>\n",
       "      <td>0</td>\n",
       "      <td>0</td>\n",
       "      <td>0</td>\n",
       "      <td>44.2</td>\n",
       "      <td>0.630</td>\n",
       "      <td>31</td>\n",
       "      <td>1</td>\n",
       "    </tr>\n",
       "    <tr>\n",
       "      <th>3</th>\n",
       "      <td>0</td>\n",
       "      <td>135</td>\n",
       "      <td>68</td>\n",
       "      <td>42</td>\n",
       "      <td>250</td>\n",
       "      <td>42.3</td>\n",
       "      <td>0.365</td>\n",
       "      <td>24</td>\n",
       "      <td>1</td>\n",
       "    </tr>\n",
       "    <tr>\n",
       "      <th>4</th>\n",
       "      <td>1</td>\n",
       "      <td>139</td>\n",
       "      <td>62</td>\n",
       "      <td>41</td>\n",
       "      <td>480</td>\n",
       "      <td>40.7</td>\n",
       "      <td>0.536</td>\n",
       "      <td>21</td>\n",
       "      <td>0</td>\n",
       "    </tr>\n",
       "    <tr>\n",
       "      <th>...</th>\n",
       "      <td>...</td>\n",
       "      <td>...</td>\n",
       "      <td>...</td>\n",
       "      <td>...</td>\n",
       "      <td>...</td>\n",
       "      <td>...</td>\n",
       "      <td>...</td>\n",
       "      <td>...</td>\n",
       "      <td>...</td>\n",
       "    </tr>\n",
       "    <tr>\n",
       "      <th>1995</th>\n",
       "      <td>2</td>\n",
       "      <td>75</td>\n",
       "      <td>64</td>\n",
       "      <td>24</td>\n",
       "      <td>55</td>\n",
       "      <td>29.7</td>\n",
       "      <td>0.370</td>\n",
       "      <td>33</td>\n",
       "      <td>0</td>\n",
       "    </tr>\n",
       "    <tr>\n",
       "      <th>1996</th>\n",
       "      <td>8</td>\n",
       "      <td>179</td>\n",
       "      <td>72</td>\n",
       "      <td>42</td>\n",
       "      <td>130</td>\n",
       "      <td>32.7</td>\n",
       "      <td>0.719</td>\n",
       "      <td>36</td>\n",
       "      <td>1</td>\n",
       "    </tr>\n",
       "    <tr>\n",
       "      <th>1997</th>\n",
       "      <td>6</td>\n",
       "      <td>85</td>\n",
       "      <td>78</td>\n",
       "      <td>0</td>\n",
       "      <td>0</td>\n",
       "      <td>31.2</td>\n",
       "      <td>0.382</td>\n",
       "      <td>42</td>\n",
       "      <td>0</td>\n",
       "    </tr>\n",
       "    <tr>\n",
       "      <th>1998</th>\n",
       "      <td>0</td>\n",
       "      <td>129</td>\n",
       "      <td>110</td>\n",
       "      <td>46</td>\n",
       "      <td>130</td>\n",
       "      <td>67.1</td>\n",
       "      <td>0.319</td>\n",
       "      <td>26</td>\n",
       "      <td>1</td>\n",
       "    </tr>\n",
       "    <tr>\n",
       "      <th>1999</th>\n",
       "      <td>2</td>\n",
       "      <td>81</td>\n",
       "      <td>72</td>\n",
       "      <td>15</td>\n",
       "      <td>76</td>\n",
       "      <td>30.1</td>\n",
       "      <td>0.547</td>\n",
       "      <td>25</td>\n",
       "      <td>0</td>\n",
       "    </tr>\n",
       "  </tbody>\n",
       "</table>\n",
       "<p>2000 rows × 9 columns</p>\n",
       "</div>"
      ],
      "text/plain": [
       "      Embarazos  Glucosa  Presion arterial  Espesor de la sangre  Insulina  \\\n",
       "0             2      138                62                    35         0   \n",
       "1             0       84                82                    31       125   \n",
       "2             0      145                 0                     0         0   \n",
       "3             0      135                68                    42       250   \n",
       "4             1      139                62                    41       480   \n",
       "...         ...      ...               ...                   ...       ...   \n",
       "1995          2       75                64                    24        55   \n",
       "1996          8      179                72                    42       130   \n",
       "1997          6       85                78                     0         0   \n",
       "1998          0      129               110                    46       130   \n",
       "1999          2       81                72                    15        76   \n",
       "\n",
       "      BMI(indice de masa corporal)  DiabetesPedigreeFunction  Edad  Clase  \n",
       "0                             33.6                     0.127    47      1  \n",
       "1                             38.2                     0.233    23      0  \n",
       "2                             44.2                     0.630    31      1  \n",
       "3                             42.3                     0.365    24      1  \n",
       "4                             40.7                     0.536    21      0  \n",
       "...                            ...                       ...   ...    ...  \n",
       "1995                          29.7                     0.370    33      0  \n",
       "1996                          32.7                     0.719    36      1  \n",
       "1997                          31.2                     0.382    42      0  \n",
       "1998                          67.1                     0.319    26      1  \n",
       "1999                          30.1                     0.547    25      0  \n",
       "\n",
       "[2000 rows x 9 columns]"
      ]
     },
     "execution_count": 23,
     "metadata": {},
     "output_type": "execute_result"
    }
   ],
   "source": [
    "# Paso 3: Preprocesamiento de datos\n",
    " \n",
    "# Algo de limpieza de datos\n",
    "# eliminamos los nulos\n",
    "data = data.dropna()\n",
    "data"
   ]
  },
  {
   "cell_type": "code",
   "execution_count": 7,
   "id": "8709561e",
   "metadata": {},
   "outputs": [
    {
     "name": "stdout",
     "output_type": "stream",
     "text": [
      "<class 'pandas.core.frame.DataFrame'>\n",
      "RangeIndex: 2000 entries, 0 to 1999\n",
      "Data columns (total 9 columns):\n",
      " #   Column                        Non-Null Count  Dtype  \n",
      "---  ------                        --------------  -----  \n",
      " 0   Embarazos                     2000 non-null   int64  \n",
      " 1   Glucosa                       2000 non-null   int64  \n",
      " 2   Presion arterial              2000 non-null   int64  \n",
      " 3   Espesor de la sangre          2000 non-null   int64  \n",
      " 4   Insulina                      2000 non-null   int64  \n",
      " 5   BMI(indice de masa corporal)  2000 non-null   float64\n",
      " 6   DiabetesPedigreeFunction      2000 non-null   float64\n",
      " 7   Edad                          2000 non-null   int64  \n",
      " 8   Clase                         2000 non-null   int64  \n",
      "dtypes: float64(2), int64(7)\n",
      "memory usage: 140.8 KB\n",
      "None\n"
     ]
    }
   ],
   "source": [
    "# mostramos nuevemamente la información general del dataset \n",
    "# para verificar que no hayan nulos\n",
    "\n",
    "print(data.info())"
   ]
  },
  {
   "cell_type": "code",
   "execution_count": 14,
   "id": "7b802d9b",
   "metadata": {},
   "outputs": [],
   "source": [
    "data.columns = data.columns.str.replace(' ', '')"
   ]
  },
  {
   "cell_type": "code",
   "execution_count": 18,
   "id": "bbc923d7",
   "metadata": {},
   "outputs": [
    {
     "name": "stdout",
     "output_type": "stream",
     "text": [
      "Clase\n",
      "0    1316\n",
      "1     684\n",
      "Name: count, dtype: int64\n"
     ]
    }
   ],
   "source": [
    "# aqui se muestra la información de las etiquetas\n",
    "# que en este caso es la columna 'Clase'  es la que queremos predecir\n",
    "# en este caso es una variable binaria:  1 si Clase es diabetico y 0 si no es diabetico\n",
    "\n",
    "print(y.value_counts())\n",
    "\n",
    "data['Clase'] = data['Clase'].replace({\"Y\": 1, \"N\": 0})\n",
    "data['Clase'] = data['Clase'].astype(int)"
   ]
  },
  {
   "cell_type": "code",
   "execution_count": 19,
   "id": "72c69818",
   "metadata": {},
   "outputs": [],
   "source": [
    "# Paso 4: Dividir el conjunto de datos en características (X) y etiquetas (y)\n",
    "# Características\n",
    "# Seleccionamos las columnas de características\n",
    "# ingresos_solicitante, ingresos_cosolicitante y monto_prestamo como características para el modelo\n",
    "# y la columna estado_prestamo como etiqueta para predecir\n",
    "\n",
    "X = data[[\"Glucosa\", \"Insulina\", \"Edad\"]]\n",
    "y = data['Clase']"
   ]
  },
  {
   "cell_type": "code",
   "execution_count": 20,
   "id": "086833d7",
   "metadata": {},
   "outputs": [],
   "source": [
    "# Dividir Training/Testing\n",
    "porc_test= 0.2\n",
    "x_train, x_test, y_train, y_test = train_test_split(X, y, test_size= porc_test)"
   ]
  },
  {
   "cell_type": "code",
   "execution_count": 24,
   "id": "cf03fd59",
   "metadata": {},
   "outputs": [
    {
     "data": {
      "text/html": [
       "<style>#sk-container-id-1 {color: black;}#sk-container-id-1 pre{padding: 0;}#sk-container-id-1 div.sk-toggleable {background-color: white;}#sk-container-id-1 label.sk-toggleable__label {cursor: pointer;display: block;width: 100%;margin-bottom: 0;padding: 0.3em;box-sizing: border-box;text-align: center;}#sk-container-id-1 label.sk-toggleable__label-arrow:before {content: \"▸\";float: left;margin-right: 0.25em;color: #696969;}#sk-container-id-1 label.sk-toggleable__label-arrow:hover:before {color: black;}#sk-container-id-1 div.sk-estimator:hover label.sk-toggleable__label-arrow:before {color: black;}#sk-container-id-1 div.sk-toggleable__content {max-height: 0;max-width: 0;overflow: hidden;text-align: left;background-color: #f0f8ff;}#sk-container-id-1 div.sk-toggleable__content pre {margin: 0.2em;color: black;border-radius: 0.25em;background-color: #f0f8ff;}#sk-container-id-1 input.sk-toggleable__control:checked~div.sk-toggleable__content {max-height: 200px;max-width: 100%;overflow: auto;}#sk-container-id-1 input.sk-toggleable__control:checked~label.sk-toggleable__label-arrow:before {content: \"▾\";}#sk-container-id-1 div.sk-estimator input.sk-toggleable__control:checked~label.sk-toggleable__label {background-color: #d4ebff;}#sk-container-id-1 div.sk-label input.sk-toggleable__control:checked~label.sk-toggleable__label {background-color: #d4ebff;}#sk-container-id-1 input.sk-hidden--visually {border: 0;clip: rect(1px 1px 1px 1px);clip: rect(1px, 1px, 1px, 1px);height: 1px;margin: -1px;overflow: hidden;padding: 0;position: absolute;width: 1px;}#sk-container-id-1 div.sk-estimator {font-family: monospace;background-color: #f0f8ff;border: 1px dotted black;border-radius: 0.25em;box-sizing: border-box;margin-bottom: 0.5em;}#sk-container-id-1 div.sk-estimator:hover {background-color: #d4ebff;}#sk-container-id-1 div.sk-parallel-item::after {content: \"\";width: 100%;border-bottom: 1px solid gray;flex-grow: 1;}#sk-container-id-1 div.sk-label:hover label.sk-toggleable__label {background-color: #d4ebff;}#sk-container-id-1 div.sk-serial::before {content: \"\";position: absolute;border-left: 1px solid gray;box-sizing: border-box;top: 0;bottom: 0;left: 50%;z-index: 0;}#sk-container-id-1 div.sk-serial {display: flex;flex-direction: column;align-items: center;background-color: white;padding-right: 0.2em;padding-left: 0.2em;position: relative;}#sk-container-id-1 div.sk-item {position: relative;z-index: 1;}#sk-container-id-1 div.sk-parallel {display: flex;align-items: stretch;justify-content: center;background-color: white;position: relative;}#sk-container-id-1 div.sk-item::before, #sk-container-id-1 div.sk-parallel-item::before {content: \"\";position: absolute;border-left: 1px solid gray;box-sizing: border-box;top: 0;bottom: 0;left: 50%;z-index: -1;}#sk-container-id-1 div.sk-parallel-item {display: flex;flex-direction: column;z-index: 1;position: relative;background-color: white;}#sk-container-id-1 div.sk-parallel-item:first-child::after {align-self: flex-end;width: 50%;}#sk-container-id-1 div.sk-parallel-item:last-child::after {align-self: flex-start;width: 50%;}#sk-container-id-1 div.sk-parallel-item:only-child::after {width: 0;}#sk-container-id-1 div.sk-dashed-wrapped {border: 1px dashed gray;margin: 0 0.4em 0.5em 0.4em;box-sizing: border-box;padding-bottom: 0.4em;background-color: white;}#sk-container-id-1 div.sk-label label {font-family: monospace;font-weight: bold;display: inline-block;line-height: 1.2em;}#sk-container-id-1 div.sk-label-container {text-align: center;}#sk-container-id-1 div.sk-container {/* jupyter's `normalize.less` sets `[hidden] { display: none; }` but bootstrap.min.css set `[hidden] { display: none !important; }` so we also need the `!important` here to be able to override the default hidden behavior on the sphinx rendered scikit-learn.org. See: https://github.com/scikit-learn/scikit-learn/issues/21755 */display: inline-block !important;position: relative;}#sk-container-id-1 div.sk-text-repr-fallback {display: none;}</style><div id=\"sk-container-id-1\" class=\"sk-top-container\"><div class=\"sk-text-repr-fallback\"><pre>RandomForestClassifier(random_state=42)</pre><b>In a Jupyter environment, please rerun this cell to show the HTML representation or trust the notebook. <br />On GitHub, the HTML representation is unable to render, please try loading this page with nbviewer.org.</b></div><div class=\"sk-container\" hidden><div class=\"sk-item\"><div class=\"sk-estimator sk-toggleable\"><input class=\"sk-toggleable__control sk-hidden--visually\" id=\"sk-estimator-id-1\" type=\"checkbox\" checked><label for=\"sk-estimator-id-1\" class=\"sk-toggleable__label sk-toggleable__label-arrow\">RandomForestClassifier</label><div class=\"sk-toggleable__content\"><pre>RandomForestClassifier(random_state=42)</pre></div></div></div></div></div>"
      ],
      "text/plain": [
       "RandomForestClassifier(random_state=42)"
      ]
     },
     "execution_count": 24,
     "metadata": {},
     "output_type": "execute_result"
    }
   ],
   "source": [
    "# Paso 4: Entrenar un modelo de clasificación (usando Random Forest como ejemplo)\n",
    "# Crear un modelo de clasificación de bosque aleatorio\n",
    "modelo = RandomForestClassifier(random_state=42)\n",
    "modelo.fit(x_train, y_train)"
   ]
  },
  {
   "cell_type": "code",
   "execution_count": 26,
   "id": "65cc5eff",
   "metadata": {},
   "outputs": [
    {
     "name": "stdout",
     "output_type": "stream",
     "text": [
      "\n",
      "Precisión del modelo: 0.97\n"
     ]
    },
    {
     "data": {
      "image/png": "[encoded data removed]",
      "text/plain": [
       "<Figure size 800x600 with 1 Axes>"
      ]
     },
     "metadata": {},
     "output_type": "display_data"
    },
    {
     "name": "stdout",
     "output_type": "stream",
     "text": [
      "\n",
      "Informe de Clasificación:\n",
      "              precision    recall  f1-score   support\n",
      "\n",
      "           0       0.98      0.98      0.98       270\n",
      "           1       0.96      0.95      0.96       130\n",
      "\n",
      "    accuracy                           0.97       400\n",
      "   macro avg       0.97      0.97      0.97       400\n",
      "weighted avg       0.97      0.97      0.97       400\n",
      "\n"
     ]
    }
   ],
   "source": [
    "# Paso 5: Evaluación del modelo\n",
    "y_pred = modelo.predict(x_test)\n",
    "\n",
    "# Calcular la precisión del modelo\n",
    "precision = accuracy_score(y_test, y_pred)\n",
    "print(f\"\\nPrecisión del modelo: {precision:.2f}\")\n",
    "\n",
    "# Mostrar la matriz de confusión\n",
    "matriz_confusion = confusion_matrix(y_test, y_pred)\n",
    "plt.figure(figsize=(8, 6))\n",
    "sns.heatmap(matriz_confusion, annot=True, fmt='d', cmap='Blues', cbar=False)\n",
    "plt.xlabel('Predicciones')\n",
    "plt.ylabel('Valores reales')\n",
    "plt.title('Matriz de Confusión')\n",
    "plt.show()\n",
    "\n",
    "# Mostrar el informe de clasificación\n",
    "informe_clasificacion = classification_report(y_test, y_pred)\n",
    "print(\"\\nInforme de Clasificación:\")\n",
    "print(informe_clasificacion)"
   ]
  },
  {
   "cell_type": "code",
   "execution_count": 27,
   "id": "d68ec16b",
   "metadata": {},
   "outputs": [],
   "source": [
    "# Paso 6: Guardar el modelo entrenado en un archivo para su uso posterior\n",
    "# Guardar el modelo en un archivo usando pickle\n",
    "import pickle\n",
    "\n",
    "with open('modelo_prestamo.pkl', 'wb') as archivo_salida:\n",
    "    pickle.dump(modelo, archivo_salida)\n",
    "\n",
    "# Verificar que se haya creado el modelo en el sistema de archivos"
   ]
  },
  {
   "cell_type": "code",
   "execution_count": 30,
   "id": "72706723",
   "metadata": {},
   "outputs": [
    {
     "name": "stdout",
     "output_type": "stream",
     "text": [
      "\n",
      "Predicción: [1]\n"
     ]
    }
   ],
   "source": [
    "# Paso 7: Cargar el modelo desde el archivo y hacer una predicción\n",
    "with open('modelo_prestamo.pkl', 'rb') as archivo_entrada:\n",
    "    modelo_cargado = pickle.load(archivo_entrada)\n",
    "\n",
    "# Crear un nuevo ejemplo de datos\n",
    "nuevo_ejemplo = pd.DataFrame({\n",
    "    'Glucosa': [120],\n",
    "    'Insulina': [125],\n",
    "    'Edad': [47]\n",
    "})\n",
    "\n",
    "# Hacer una predicción usando el modelo cargado\n",
    "prediccion = modelo_cargado.predict(nuevo_ejemplo)\n",
    "print(\"\\nPredicción:\", prediccion)"
   ]
  },
  {
   "cell_type": "code",
   "execution_count": null,
   "id": "86251fa8",
   "metadata": {},
   "outputs": [],
   "source": []
  }
 ],
 "metadata": {
  "kernelspec": {
   "display_name": "Python 3 (ipykernel)",
   "language": "python",
   "name": "python3"
  },
  "language_info": {
   "codemirror_mode": {
    "name": "ipython",
    "version": 3
   },
   "file_extension": ".py",
   "mimetype": "text/x-python",
   "name": "python",
   "nbconvert_exporter": "python",
   "pygments_lexer": "ipython3",
   "version": "3.11.5"
  }
 },
 "nbformat": 4,
 "nbformat_minor": 5
}
